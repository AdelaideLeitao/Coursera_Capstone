{
 "cells": [
  {
   "cell_type": "markdown",
   "metadata": {},
   "source": [
    "<h1><center>IBM Data Science Professional Certificate (Coursera)</center></h1>\n",
    "<h1><center>Data Science  Capstone Project</center></h1> \n",
    "<h1><center>| Final Report | Adelaide Leitao | </center></h1>"
   ]
  },
  {
   "cell_type": "markdown",
   "metadata": {},
   "source": [
    "\n",
    "## PART I   \n",
    "### INTRODUCTION, BUSINESS UNDERSTANDING AND PROBLEM  FRAMING\n",
    "\n",
    "\n",
    "\n",
    "All around the world roads are shared by cars, buses, trucks, motorcycles, pedestrians, animals, taxis, and other travelers. Travelling,  made possible by motor vehicles, supports economic and social development in most of countries, yet each year, vehicles are involved in accidents that are responsible for millions of deaths and injuries.\n",
    "\n",
    "Accordingly to the World Health Organization report \"Global Status Report on Road Safety 2018\", each year 1.35 million people are killed on roads around the world die to accidents. This meand that every day  almost 3,700 people are killed globally in road traffic crashes involving vehicles. More than 50% of those killed are pedestrians, motorcyclists  and cyclists. \n",
    "\n",
    "Despite measures and specif campaigns deployed by authorities in all of the countries, the impact of accidents continues to be high an thus, it is of paramount importance to understand what are the factors that may serve as explanation to road accidents. \n",
    "\n",
    "In many cases, research shows that some of the major uncontrollable factors for accidents are weather, light and road conditions. The motivation for the work is of design some model that could serve to understand what are the predictors of the severity of an accident; if this proves to be possible, then it could serve as a way to drive and manage alerts issued by authorities and that could help prevent the mumber of accidents as well as  mortality rates.\n",
    "\n",
    "In summary, this work aims to investigate if data available and related to accidents can reveal some patterns and insights that can be used by local government and traffic authorities to understand what are the predictors of the severity of traffic accidents. If so, such model would provide added value for decision-making related with reduction of the number of accidents in a city.\n",
    "\n"
   ]
  },
  {
   "cell_type": "markdown",
   "metadata": {},
   "source": [
    "## PART II\n",
    "### DATA UNDERSTANDING \n",
    "\n",
    "In this part, all attributes of the available data are studied in detail. \n",
    "The data that is going to be used for this project capstone was made available by the Seattle Police Department and is  related with the Accident Traffic Records Department, collect from 2004 to present.  It consists of a dataset that includes + 190 000 observations and 37 independent variables. The dependent variable is named  “SEVERITYCODE” and  contains a classification corresponding to different levels of severity caused by an accident that accordingly to the metadate given is as follows:\n",
    "* 3—fatality\n",
    "* 2b—serious injury\n",
    "* 2—injury\n",
    "* 1—prop damage\n",
    "* 0—unknown\n"
   ]
  },
  {
   "cell_type": "code",
   "execution_count": 2,
   "metadata": {},
   "outputs": [
    {
     "name": "stdout",
     "output_type": "stream",
     "text": [
      "imported\n"
     ]
    }
   ],
   "source": [
    "import pandas as pd\n",
    "import numpy as np\n",
    "import scipy\n",
    "import matplotlib.pyplot as plt\n",
    "import datetime as dt\n",
    "import seaborn as sns\n",
    "sns.set(style=\"whitegrid\")\n",
    "\n",
    "%matplotlib inline\n",
    "\n",
    "from sklearn.utils import resample\n",
    "from sklearn.pipeline import Pipeline\n",
    "from sklearn import preprocessing\n",
    "from sklearn.preprocessing import Imputer\n",
    "from sklearn.preprocessing import StandardScaler\n",
    "from sklearn.preprocessing import OneHotEncoder\n",
    "from sklearn.preprocessing import LabelEncoder\n",
    "from sklearn.preprocessing import MinMaxScaler\n",
    "\n",
    "from sklearn.decomposition import PCA\n",
    "from sklearn.linear_model import LinearRegression\n",
    "from sklearn.linear_model import LogisticRegression\n",
    "from sklearn.model_selection import train_test_split\n",
    "from sklearn.model_selection import GridSearchCV\n",
    "from sklearn.neighbors import KNeighborsClassifier\n",
    "from sklearn.ensemble import RandomForestClassifier\n",
    "from sklearn.svm import SVC\n",
    "from sklearn import tree\n",
    "from sklearn.tree import DecisionTreeClassifier\n",
    "from sklearn import svm\n",
    "from sklearn.linear_model import Perceptron\n",
    "from sklearn.neural_network import MLPClassifier\n",
    "\n",
    "from sklearn.metrics import classification_report\n",
    "from sklearn.metrics import precision_recall_curve\n",
    "from sklearn.metrics import roc_auc_score\n",
    "from sklearn.metrics import confusion_matrix\n",
    "from sklearn.metrics import accuracy_score\n",
    "from sklearn.metrics import recall_score\n",
    "from sklearn.metrics import precision_score\n",
    "from sklearn.metrics import auc\n",
    "from sklearn.metrics import roc_curve\n",
    "from sklearn.metrics import f1_score\n",
    "from sklearn.datasets import make_classification\n",
    "\n",
    "print('imported')"
   ]
  },
  {
   "cell_type": "code",
   "execution_count": 3,
   "metadata": {},
   "outputs": [],
   "source": [
    "seed = 42"
   ]
  },
  {
   "cell_type": "code",
   "execution_count": 4,
   "metadata": {},
   "outputs": [
    {
     "name": "stderr",
     "output_type": "stream",
     "text": [
      "C:\\Users\\adelaide.leitao\\AppData\\Local\\Continuum\\anaconda3\\lib\\site-packages\\IPython\\core\\interactiveshell.py:3020: DtypeWarning: Columns (33) have mixed types. Specify dtype option on import or set low_memory=False.\n",
      "  interactivity=interactivity, compiler=compiler, result=result)\n"
     ]
    }
   ],
   "source": [
    "# Loading of the dataset\n",
    "df_data = pd.read_csv(\"/users/adelaide.leitao/downloads/Data-Collisions.csv\")"
   ]
  },
  {
   "cell_type": "code",
   "execution_count": 5,
   "metadata": {},
   "outputs": [
    {
     "data": {
      "text/html": [
       "<div>\n",
       "<style scoped>\n",
       "    .dataframe tbody tr th:only-of-type {\n",
       "        vertical-align: middle;\n",
       "    }\n",
       "\n",
       "    .dataframe tbody tr th {\n",
       "        vertical-align: top;\n",
       "    }\n",
       "\n",
       "    .dataframe thead th {\n",
       "        text-align: right;\n",
       "    }\n",
       "</style>\n",
       "<table border=\"1\" class=\"dataframe\">\n",
       "  <thead>\n",
       "    <tr style=\"text-align: right;\">\n",
       "      <th></th>\n",
       "      <th>SEVERITYCODE</th>\n",
       "      <th>X</th>\n",
       "      <th>Y</th>\n",
       "      <th>OBJECTID</th>\n",
       "      <th>INCKEY</th>\n",
       "      <th>COLDETKEY</th>\n",
       "      <th>REPORTNO</th>\n",
       "      <th>STATUS</th>\n",
       "      <th>ADDRTYPE</th>\n",
       "      <th>INTKEY</th>\n",
       "      <th>...</th>\n",
       "      <th>ROADCOND</th>\n",
       "      <th>LIGHTCOND</th>\n",
       "      <th>PEDROWNOTGRNT</th>\n",
       "      <th>SDOTCOLNUM</th>\n",
       "      <th>SPEEDING</th>\n",
       "      <th>ST_COLCODE</th>\n",
       "      <th>ST_COLDESC</th>\n",
       "      <th>SEGLANEKEY</th>\n",
       "      <th>CROSSWALKKEY</th>\n",
       "      <th>HITPARKEDCAR</th>\n",
       "    </tr>\n",
       "  </thead>\n",
       "  <tbody>\n",
       "    <tr>\n",
       "      <th>0</th>\n",
       "      <td>2</td>\n",
       "      <td>-122.323148</td>\n",
       "      <td>47.703140</td>\n",
       "      <td>1</td>\n",
       "      <td>1307</td>\n",
       "      <td>1307</td>\n",
       "      <td>3502005</td>\n",
       "      <td>Matched</td>\n",
       "      <td>Intersection</td>\n",
       "      <td>37475.0</td>\n",
       "      <td>...</td>\n",
       "      <td>Wet</td>\n",
       "      <td>Daylight</td>\n",
       "      <td>NaN</td>\n",
       "      <td>NaN</td>\n",
       "      <td>NaN</td>\n",
       "      <td>10</td>\n",
       "      <td>Entering at angle</td>\n",
       "      <td>0</td>\n",
       "      <td>0</td>\n",
       "      <td>N</td>\n",
       "    </tr>\n",
       "    <tr>\n",
       "      <th>1</th>\n",
       "      <td>1</td>\n",
       "      <td>-122.347294</td>\n",
       "      <td>47.647172</td>\n",
       "      <td>2</td>\n",
       "      <td>52200</td>\n",
       "      <td>52200</td>\n",
       "      <td>2607959</td>\n",
       "      <td>Matched</td>\n",
       "      <td>Block</td>\n",
       "      <td>NaN</td>\n",
       "      <td>...</td>\n",
       "      <td>Wet</td>\n",
       "      <td>Dark - Street Lights On</td>\n",
       "      <td>NaN</td>\n",
       "      <td>6354039.0</td>\n",
       "      <td>NaN</td>\n",
       "      <td>11</td>\n",
       "      <td>From same direction - both going straight - bo...</td>\n",
       "      <td>0</td>\n",
       "      <td>0</td>\n",
       "      <td>N</td>\n",
       "    </tr>\n",
       "    <tr>\n",
       "      <th>2</th>\n",
       "      <td>1</td>\n",
       "      <td>-122.334540</td>\n",
       "      <td>47.607871</td>\n",
       "      <td>3</td>\n",
       "      <td>26700</td>\n",
       "      <td>26700</td>\n",
       "      <td>1482393</td>\n",
       "      <td>Matched</td>\n",
       "      <td>Block</td>\n",
       "      <td>NaN</td>\n",
       "      <td>...</td>\n",
       "      <td>Dry</td>\n",
       "      <td>Daylight</td>\n",
       "      <td>NaN</td>\n",
       "      <td>4323031.0</td>\n",
       "      <td>NaN</td>\n",
       "      <td>32</td>\n",
       "      <td>One parked--one moving</td>\n",
       "      <td>0</td>\n",
       "      <td>0</td>\n",
       "      <td>N</td>\n",
       "    </tr>\n",
       "    <tr>\n",
       "      <th>3</th>\n",
       "      <td>1</td>\n",
       "      <td>-122.334803</td>\n",
       "      <td>47.604803</td>\n",
       "      <td>4</td>\n",
       "      <td>1144</td>\n",
       "      <td>1144</td>\n",
       "      <td>3503937</td>\n",
       "      <td>Matched</td>\n",
       "      <td>Block</td>\n",
       "      <td>NaN</td>\n",
       "      <td>...</td>\n",
       "      <td>Dry</td>\n",
       "      <td>Daylight</td>\n",
       "      <td>NaN</td>\n",
       "      <td>NaN</td>\n",
       "      <td>NaN</td>\n",
       "      <td>23</td>\n",
       "      <td>From same direction - all others</td>\n",
       "      <td>0</td>\n",
       "      <td>0</td>\n",
       "      <td>N</td>\n",
       "    </tr>\n",
       "    <tr>\n",
       "      <th>4</th>\n",
       "      <td>2</td>\n",
       "      <td>-122.306426</td>\n",
       "      <td>47.545739</td>\n",
       "      <td>5</td>\n",
       "      <td>17700</td>\n",
       "      <td>17700</td>\n",
       "      <td>1807429</td>\n",
       "      <td>Matched</td>\n",
       "      <td>Intersection</td>\n",
       "      <td>34387.0</td>\n",
       "      <td>...</td>\n",
       "      <td>Wet</td>\n",
       "      <td>Daylight</td>\n",
       "      <td>NaN</td>\n",
       "      <td>4028032.0</td>\n",
       "      <td>NaN</td>\n",
       "      <td>10</td>\n",
       "      <td>Entering at angle</td>\n",
       "      <td>0</td>\n",
       "      <td>0</td>\n",
       "      <td>N</td>\n",
       "    </tr>\n",
       "  </tbody>\n",
       "</table>\n",
       "<p>5 rows × 38 columns</p>\n",
       "</div>"
      ],
      "text/plain": [
       "   SEVERITYCODE           X          Y  OBJECTID  INCKEY  COLDETKEY REPORTNO  \\\n",
       "0             2 -122.323148  47.703140         1    1307       1307  3502005   \n",
       "1             1 -122.347294  47.647172         2   52200      52200  2607959   \n",
       "2             1 -122.334540  47.607871         3   26700      26700  1482393   \n",
       "3             1 -122.334803  47.604803         4    1144       1144  3503937   \n",
       "4             2 -122.306426  47.545739         5   17700      17700  1807429   \n",
       "\n",
       "    STATUS      ADDRTYPE   INTKEY      ...      ROADCOND  \\\n",
       "0  Matched  Intersection  37475.0      ...           Wet   \n",
       "1  Matched         Block      NaN      ...           Wet   \n",
       "2  Matched         Block      NaN      ...           Dry   \n",
       "3  Matched         Block      NaN      ...           Dry   \n",
       "4  Matched  Intersection  34387.0      ...           Wet   \n",
       "\n",
       "                 LIGHTCOND PEDROWNOTGRNT  SDOTCOLNUM SPEEDING ST_COLCODE  \\\n",
       "0                 Daylight           NaN         NaN      NaN         10   \n",
       "1  Dark - Street Lights On           NaN   6354039.0      NaN         11   \n",
       "2                 Daylight           NaN   4323031.0      NaN         32   \n",
       "3                 Daylight           NaN         NaN      NaN         23   \n",
       "4                 Daylight           NaN   4028032.0      NaN         10   \n",
       "\n",
       "                                          ST_COLDESC  SEGLANEKEY  \\\n",
       "0                                  Entering at angle           0   \n",
       "1  From same direction - both going straight - bo...           0   \n",
       "2                             One parked--one moving           0   \n",
       "3                   From same direction - all others           0   \n",
       "4                                  Entering at angle           0   \n",
       "\n",
       "   CROSSWALKKEY  HITPARKEDCAR  \n",
       "0             0             N  \n",
       "1             0             N  \n",
       "2             0             N  \n",
       "3             0             N  \n",
       "4             0             N  \n",
       "\n",
       "[5 rows x 38 columns]"
      ]
     },
     "execution_count": 5,
     "metadata": {},
     "output_type": "execute_result"
    }
   ],
   "source": [
    "# Understanding the dataset size in terms of observations and columns (variables)\n",
    "df_data.head()"
   ]
  },
  {
   "cell_type": "code",
   "execution_count": 6,
   "metadata": {},
   "outputs": [
    {
     "data": {
      "text/plain": [
       "SEVERITYCODE           0\n",
       "X                   5334\n",
       "Y                   5334\n",
       "OBJECTID               0\n",
       "INCKEY                 0\n",
       "COLDETKEY              0\n",
       "REPORTNO               0\n",
       "STATUS                 0\n",
       "ADDRTYPE            1926\n",
       "INTKEY            129603\n",
       "LOCATION            2677\n",
       "EXCEPTRSNCODE     109862\n",
       "EXCEPTRSNDESC     189035\n",
       "SEVERITYCODE.1         0\n",
       "SEVERITYDESC           0\n",
       "COLLISIONTYPE       4904\n",
       "PERSONCOUNT            0\n",
       "PEDCOUNT               0\n",
       "PEDCYLCOUNT            0\n",
       "VEHCOUNT               0\n",
       "INCDATE                0\n",
       "INCDTTM                0\n",
       "JUNCTIONTYPE        6329\n",
       "SDOT_COLCODE           0\n",
       "SDOT_COLDESC           0\n",
       "INATTENTIONIND    164868\n",
       "UNDERINFL           4884\n",
       "WEATHER             5081\n",
       "ROADCOND            5012\n",
       "LIGHTCOND           5170\n",
       "PEDROWNOTGRNT     190006\n",
       "SDOTCOLNUM         79737\n",
       "SPEEDING          185340\n",
       "ST_COLCODE            18\n",
       "ST_COLDESC          4904\n",
       "SEGLANEKEY             0\n",
       "CROSSWALKKEY           0\n",
       "HITPARKEDCAR           0\n",
       "dtype: int64"
      ]
     },
     "execution_count": 6,
     "metadata": {},
     "output_type": "execute_result"
    }
   ],
   "source": [
    "# understanding missing  values \n",
    "df_data.isnull().sum()"
   ]
  },
  {
   "cell_type": "markdown",
   "metadata": {},
   "source": [
    "The SEVERITYCODE column contains a codification that corresponds to the severity of the accidentm which is the target variable   \n"
   ]
  },
  {
   "cell_type": "code",
   "execution_count": 7,
   "metadata": {},
   "outputs": [
    {
     "data": {
      "text/html": [
       "<div>\n",
       "<style scoped>\n",
       "    .dataframe tbody tr th:only-of-type {\n",
       "        vertical-align: middle;\n",
       "    }\n",
       "\n",
       "    .dataframe tbody tr th {\n",
       "        vertical-align: top;\n",
       "    }\n",
       "\n",
       "    .dataframe thead th {\n",
       "        text-align: right;\n",
       "    }\n",
       "</style>\n",
       "<table border=\"1\" class=\"dataframe\">\n",
       "  <thead>\n",
       "    <tr style=\"text-align: right;\">\n",
       "      <th></th>\n",
       "      <th>SEVERITYCODE</th>\n",
       "    </tr>\n",
       "  </thead>\n",
       "  <tbody>\n",
       "    <tr>\n",
       "      <th>1</th>\n",
       "      <td>136485</td>\n",
       "    </tr>\n",
       "    <tr>\n",
       "      <th>2</th>\n",
       "      <td>58188</td>\n",
       "    </tr>\n",
       "  </tbody>\n",
       "</table>\n",
       "</div>"
      ],
      "text/plain": [
       "   SEVERITYCODE\n",
       "1        136485\n",
       "2         58188"
      ]
     },
     "execution_count": 7,
     "metadata": {},
     "output_type": "execute_result"
    }
   ],
   "source": [
    "df_data['SEVERITYCODE'].value_counts().to_frame()"
   ]
  },
  {
   "cell_type": "code",
   "execution_count": 8,
   "metadata": {},
   "outputs": [
    {
     "data": {
      "image/png": "[encoded data removed]",
      "text/plain": [
       "<Figure size 432x288 with 1 Axes>"
      ]
     },
     "metadata": {
      "needs_background": "light"
     },
     "output_type": "display_data"
    }
   ],
   "source": [
    "# a bar plot to get a visual understanding of distribution of accidents per severity code\n",
    "barplot = df_data['SEVERITYCODE'].value_counts().plot(kind='bar', title =\"Number of Accidents per Code of Severity\" , legend=True, fontsize=12)\n",
    "barplot.set_xlabel(\"Accident Severity Code\")\n",
    "barplot.set_ylabel(\"Total of Accidents\" )                                                \n",
    "barplot.legend([\"1—property damage\", \"2—injury\"], loc=3)\n",
    "plt.show()"
   ]
  },
  {
   "cell_type": "markdown",
   "metadata": {},
   "source": [
    "Surprisingly, the total of observations are all coded either as \"1. property damage\" or  \"2. injury\". The remaining severity codes \n",
    "* 3.Fatality\n",
    "* 2b.Serious Injury\n",
    "* 0.Unknown\n",
    "\n",
    "have zero observations. This seemed strange so the column SEVERITYCODE.1  was investigated in order to understand if more detailed information could be present there. However, the result was the same, as shown below:"
   ]
  },
  {
   "cell_type": "code",
   "execution_count": 9,
   "metadata": {},
   "outputs": [
    {
     "data": {
      "text/html": [
       "<div>\n",
       "<style scoped>\n",
       "    .dataframe tbody tr th:only-of-type {\n",
       "        vertical-align: middle;\n",
       "    }\n",
       "\n",
       "    .dataframe tbody tr th {\n",
       "        vertical-align: top;\n",
       "    }\n",
       "\n",
       "    .dataframe thead th {\n",
       "        text-align: right;\n",
       "    }\n",
       "</style>\n",
       "<table border=\"1\" class=\"dataframe\">\n",
       "  <thead>\n",
       "    <tr style=\"text-align: right;\">\n",
       "      <th></th>\n",
       "      <th>SEVERITYCODE.1</th>\n",
       "    </tr>\n",
       "  </thead>\n",
       "  <tbody>\n",
       "    <tr>\n",
       "      <th>1</th>\n",
       "      <td>136485</td>\n",
       "    </tr>\n",
       "    <tr>\n",
       "      <th>2</th>\n",
       "      <td>58188</td>\n",
       "    </tr>\n",
       "  </tbody>\n",
       "</table>\n",
       "</div>"
      ],
      "text/plain": [
       "   SEVERITYCODE.1\n",
       "1          136485\n",
       "2           58188"
      ]
     },
     "execution_count": 9,
     "metadata": {},
     "output_type": "execute_result"
    }
   ],
   "source": [
    " df_data['SEVERITYCODE.1'].value_counts().to_frame()         "
   ]
  },
  {
   "cell_type": "markdown",
   "metadata": {},
   "source": [
    "\n",
    "Considering  above column SEVERITYCODE, in terms of sevrity level that  1. property damage is less severe than 2. injury\n",
    "\n",
    "\n",
    "Understanding the metadata available regarding this dataset, it is possioble to conclude that some features are not possible to be used. For the following two columns  there is no metadata available:\n",
    "\n",
    "\n",
    "| Name of Column  | Metadata | Total of Missing |\n",
    "| :- | -: | :-: |\n",
    "| EXCEPTRSNCODE  | No metadata available | 109862|\n",
    "| EXCEPTRSNDESC  | No metadata available | 189035|\n",
    "\n",
    "For the following columns, the volume of missing values is quite high meaning it will not be possible to consider:\n",
    "\n",
    "| Name of Column  | Metadata | Total of Missing |\n",
    "| :- | -: | :-: |\n",
    "| PEDROWNOTGRNT  | Whether or not the pedestrian right of way was not granted | 190006|\n",
    "| INATTENTIONIND  | Whether or not collision was due to inattention | 164868|\n",
    "\n",
    "\n",
    "\n",
    "Other columns like the list  below are related with geospatial information that, in the context of this study, can bot be resolved and thus, will not be considered for analysis: \n",
    "* OBJECTID \n",
    "* INTKEY\n",
    "* INCKEY\n",
    "* COLDETKEY\n",
    "* INTKEY\n",
    "* SEGLANEKEY\n",
    "* CROSSWALKKEY\n",
    "* REPORTNO\n",
    " \n",
    "Also accordingly to the metadata available the following columns correspond to descriptions that, considering  the terms of this problem framing are not much useful:\n",
    "\n",
    "* SDOT_COLCODE\n",
    "* SDOTCOLNUM\n",
    "* LOCATION\n",
    "\n",
    "\n",
    "Considering the remaining data available, this tudy will be focusing a more reduced number of independent variables related with the **context conditions of the accidents** and thus, the focus will be on investigation and understanding if from those factors area  possibly good  predictors of the level of severity of accidents.\n",
    "The selected variables are:  \n",
    "\n",
    "* UNDERINFL, whether or not a driver involved was under the influence of drugs or alcohol\n",
    "* WEATHER, the weather conditions at the time of the accident\n",
    "* ROADCOND, the road conditions at the time of the accident\n",
    "* LIGHTCOND, the light conditions at the time of the accident\n",
    "* SPEEDING, a classification  whether speeding was a factor in the accident\n"
   ]
  },
  {
   "cell_type": "code",
   "execution_count": 10,
   "metadata": {},
   "outputs": [],
   "source": [
    "#creation a new dataset with the mentioned columns  \n",
    "df_data_new = df_data[['SEVERITYCODE', 'UNDERINFL','WEATHER', 'ROADCOND','LIGHTCOND','SPEEDING']].copy()"
   ]
  },
  {
   "cell_type": "code",
   "execution_count": 11,
   "metadata": {},
   "outputs": [
    {
     "data": {
      "text/html": [
       "<div>\n",
       "<style scoped>\n",
       "    .dataframe tbody tr th:only-of-type {\n",
       "        vertical-align: middle;\n",
       "    }\n",
       "\n",
       "    .dataframe tbody tr th {\n",
       "        vertical-align: top;\n",
       "    }\n",
       "\n",
       "    .dataframe thead th {\n",
       "        text-align: right;\n",
       "    }\n",
       "</style>\n",
       "<table border=\"1\" class=\"dataframe\">\n",
       "  <thead>\n",
       "    <tr style=\"text-align: right;\">\n",
       "      <th></th>\n",
       "      <th>SEVERITYCODE</th>\n",
       "      <th>UNDERINFL</th>\n",
       "      <th>WEATHER</th>\n",
       "      <th>ROADCOND</th>\n",
       "      <th>LIGHTCOND</th>\n",
       "      <th>SPEEDING</th>\n",
       "    </tr>\n",
       "  </thead>\n",
       "  <tbody>\n",
       "    <tr>\n",
       "      <th>0</th>\n",
       "      <td>2</td>\n",
       "      <td>N</td>\n",
       "      <td>Overcast</td>\n",
       "      <td>Wet</td>\n",
       "      <td>Daylight</td>\n",
       "      <td>NaN</td>\n",
       "    </tr>\n",
       "    <tr>\n",
       "      <th>1</th>\n",
       "      <td>1</td>\n",
       "      <td>0</td>\n",
       "      <td>Raining</td>\n",
       "      <td>Wet</td>\n",
       "      <td>Dark - Street Lights On</td>\n",
       "      <td>NaN</td>\n",
       "    </tr>\n",
       "    <tr>\n",
       "      <th>2</th>\n",
       "      <td>1</td>\n",
       "      <td>0</td>\n",
       "      <td>Overcast</td>\n",
       "      <td>Dry</td>\n",
       "      <td>Daylight</td>\n",
       "      <td>NaN</td>\n",
       "    </tr>\n",
       "    <tr>\n",
       "      <th>3</th>\n",
       "      <td>1</td>\n",
       "      <td>N</td>\n",
       "      <td>Clear</td>\n",
       "      <td>Dry</td>\n",
       "      <td>Daylight</td>\n",
       "      <td>NaN</td>\n",
       "    </tr>\n",
       "    <tr>\n",
       "      <th>4</th>\n",
       "      <td>2</td>\n",
       "      <td>0</td>\n",
       "      <td>Raining</td>\n",
       "      <td>Wet</td>\n",
       "      <td>Daylight</td>\n",
       "      <td>NaN</td>\n",
       "    </tr>\n",
       "  </tbody>\n",
       "</table>\n",
       "</div>"
      ],
      "text/plain": [
       "   SEVERITYCODE UNDERINFL   WEATHER ROADCOND                LIGHTCOND SPEEDING\n",
       "0             2         N  Overcast      Wet                 Daylight      NaN\n",
       "1             1         0   Raining      Wet  Dark - Street Lights On      NaN\n",
       "2             1         0  Overcast      Dry                 Daylight      NaN\n",
       "3             1         N     Clear      Dry                 Daylight      NaN\n",
       "4             2         0   Raining      Wet                 Daylight      NaN"
      ]
     },
     "execution_count": 11,
     "metadata": {},
     "output_type": "execute_result"
    }
   ],
   "source": [
    "df_data_new.head()"
   ]
  },
  {
   "cell_type": "markdown",
   "metadata": {},
   "source": [
    "\n",
    "The following lines include a **study of  frequencies** for the several features considered in this new dataset.\n",
    "\n",
    "Starting  with the target variable which is column **SEVERITYCODE**, corresponding  to the severity of the accident and showing  that all observations (eg, accidents) are classified  either in **property damage (1)** or in **injuries (2)**, the latter more severe than the first."
   ]
  },
  {
   "cell_type": "code",
   "execution_count": 12,
   "metadata": {},
   "outputs": [
    {
     "data": {
      "text/html": [
       "<div>\n",
       "<style scoped>\n",
       "    .dataframe tbody tr th:only-of-type {\n",
       "        vertical-align: middle;\n",
       "    }\n",
       "\n",
       "    .dataframe tbody tr th {\n",
       "        vertical-align: top;\n",
       "    }\n",
       "\n",
       "    .dataframe thead th {\n",
       "        text-align: right;\n",
       "    }\n",
       "</style>\n",
       "<table border=\"1\" class=\"dataframe\">\n",
       "  <thead>\n",
       "    <tr style=\"text-align: right;\">\n",
       "      <th></th>\n",
       "      <th>SEVERITYCODE</th>\n",
       "    </tr>\n",
       "  </thead>\n",
       "  <tbody>\n",
       "    <tr>\n",
       "      <th>1</th>\n",
       "      <td>136485</td>\n",
       "    </tr>\n",
       "    <tr>\n",
       "      <th>2</th>\n",
       "      <td>58188</td>\n",
       "    </tr>\n",
       "  </tbody>\n",
       "</table>\n",
       "</div>"
      ],
      "text/plain": [
       "   SEVERITYCODE\n",
       "1        136485\n",
       "2         58188"
      ]
     },
     "execution_count": 12,
     "metadata": {},
     "output_type": "execute_result"
    }
   ],
   "source": [
    "df_data_new['SEVERITYCODE'].value_counts().to_frame()"
   ]
  },
  {
   "cell_type": "markdown",
   "metadata": {},
   "source": [
    "The **UNDERINFL feature** classifies collisions based on **whether or not a driver involved was under the influence of drugs or alcohol**. There are 4 different values however metadata information does not specify the meaning of each of the codes. Most probably a pair is used to indicate alcohol influence/no-influence and  another pair is used to indicate drugs influence/no-influence. Same is to say that codes 0 and N will probably be used when a driver was not under any influence and, codes 1 and Y where are used when a drive was under some influence.          "
   ]
  },
  {
   "cell_type": "code",
   "execution_count": 13,
   "metadata": {},
   "outputs": [
    {
     "name": "stdout",
     "output_type": "stream",
     "text": [
      "Variable UNDERINFL Size = 194673\n",
      "Variable UNDERINFL Nulls = 4884\n"
     ]
    },
    {
     "data": {
      "text/html": [
       "<div>\n",
       "<style scoped>\n",
       "    .dataframe tbody tr th:only-of-type {\n",
       "        vertical-align: middle;\n",
       "    }\n",
       "\n",
       "    .dataframe tbody tr th {\n",
       "        vertical-align: top;\n",
       "    }\n",
       "\n",
       "    .dataframe thead th {\n",
       "        text-align: right;\n",
       "    }\n",
       "</style>\n",
       "<table border=\"1\" class=\"dataframe\">\n",
       "  <thead>\n",
       "    <tr style=\"text-align: right;\">\n",
       "      <th>SEVERITYCODE</th>\n",
       "      <th>1</th>\n",
       "      <th>2</th>\n",
       "      <th>All</th>\n",
       "    </tr>\n",
       "    <tr>\n",
       "      <th>UNDERINFL</th>\n",
       "      <th></th>\n",
       "      <th></th>\n",
       "      <th></th>\n",
       "    </tr>\n",
       "  </thead>\n",
       "  <tbody>\n",
       "    <tr>\n",
       "      <th>0</th>\n",
       "      <td>57693</td>\n",
       "      <td>22701</td>\n",
       "      <td>80394</td>\n",
       "    </tr>\n",
       "    <tr>\n",
       "      <th>1</th>\n",
       "      <td>2372</td>\n",
       "      <td>1623</td>\n",
       "      <td>3995</td>\n",
       "    </tr>\n",
       "    <tr>\n",
       "      <th>N</th>\n",
       "      <td>69378</td>\n",
       "      <td>30896</td>\n",
       "      <td>100274</td>\n",
       "    </tr>\n",
       "    <tr>\n",
       "      <th>Y</th>\n",
       "      <td>3187</td>\n",
       "      <td>1939</td>\n",
       "      <td>5126</td>\n",
       "    </tr>\n",
       "    <tr>\n",
       "      <th>All</th>\n",
       "      <td>132630</td>\n",
       "      <td>57159</td>\n",
       "      <td>189789</td>\n",
       "    </tr>\n",
       "  </tbody>\n",
       "</table>\n",
       "</div>"
      ],
      "text/plain": [
       "SEVERITYCODE       1      2     All\n",
       "UNDERINFL                          \n",
       "0              57693  22701   80394\n",
       "1               2372   1623    3995\n",
       "N              69378  30896  100274\n",
       "Y               3187   1939    5126\n",
       "All           132630  57159  189789"
      ]
     },
     "execution_count": 13,
     "metadata": {},
     "output_type": "execute_result"
    }
   ],
   "source": [
    "Size= df_data_new['UNDERINFL'].shape[0]\n",
    "Nulls_Counts = df_data_new['UNDERINFL'].isnull().sum()\n",
    "print('Variable UNDERINFL Size = {}'.format(Size))\n",
    "print('Variable UNDERINFL Nulls = {}'.format(Nulls_Counts))\n",
    "\n",
    "pd.crosstab(index=df_data_new['UNDERINFL'], columns=df_data_new['SEVERITYCODE'], margins=True)\n"
   ]
  },
  {
   "cell_type": "code",
   "execution_count": 14,
   "metadata": {},
   "outputs": [
    {
     "data": {
      "text/plain": [
       "<matplotlib.axes._subplots.AxesSubplot at 0x2eeb92917f0>"
      ]
     },
     "execution_count": 14,
     "metadata": {},
     "output_type": "execute_result"
    },
    {
     "data": {
      "image/png": "[encoded data removed]",
      "text/plain": [
       "<Figure size 432x432 with 1 Axes>"
      ]
     },
     "metadata": {
      "needs_background": "light"
     },
     "output_type": "display_data"
    }
   ],
   "source": [
    "my_tab= pd.crosstab(df_data_new[\"UNDERINFL\"],df_data_new[\"SEVERITYCODE\"], margins = True)\n",
    "my_tab.plot(kind='bar', figsize = (6,6), title =\"Cross-Tab | Influence of Drugs/Alcohol vs Severity Code\")"
   ]
  },
  {
   "cell_type": "markdown",
   "metadata": {},
   "source": [
    "The **WEATHER feature** includes a description of the **weather conditions during at the moment of the accident** and is distributed as follows:"
   ]
  },
  {
   "cell_type": "code",
   "execution_count": 15,
   "metadata": {},
   "outputs": [
    {
     "name": "stdout",
     "output_type": "stream",
     "text": [
      "Variable WEATHER Size = 194673\n",
      "Variable WEATHER Unique Values = 11\n",
      "Variable WEATHER Nulls = 5081\n",
      "Variable WEATHER Mode = Clear\n"
     ]
    },
    {
     "data": {
      "image/png": "[encoded data removed]",
      "text/plain": [
       "<Figure size 432x288 with 1 Axes>"
      ]
     },
     "metadata": {
      "needs_background": "light"
     },
     "output_type": "display_data"
    },
    {
     "data": {
      "text/html": [
       "<div>\n",
       "<style scoped>\n",
       "    .dataframe tbody tr th:only-of-type {\n",
       "        vertical-align: middle;\n",
       "    }\n",
       "\n",
       "    .dataframe tbody tr th {\n",
       "        vertical-align: top;\n",
       "    }\n",
       "\n",
       "    .dataframe thead th {\n",
       "        text-align: right;\n",
       "    }\n",
       "</style>\n",
       "<table border=\"1\" class=\"dataframe\">\n",
       "  <thead>\n",
       "    <tr style=\"text-align: right;\">\n",
       "      <th></th>\n",
       "      <th>WEATHER</th>\n",
       "    </tr>\n",
       "  </thead>\n",
       "  <tbody>\n",
       "    <tr>\n",
       "      <th>Clear</th>\n",
       "      <td>111135</td>\n",
       "    </tr>\n",
       "    <tr>\n",
       "      <th>Raining</th>\n",
       "      <td>33145</td>\n",
       "    </tr>\n",
       "    <tr>\n",
       "      <th>Overcast</th>\n",
       "      <td>27714</td>\n",
       "    </tr>\n",
       "    <tr>\n",
       "      <th>Unknown</th>\n",
       "      <td>15091</td>\n",
       "    </tr>\n",
       "    <tr>\n",
       "      <th>Snowing</th>\n",
       "      <td>907</td>\n",
       "    </tr>\n",
       "    <tr>\n",
       "      <th>Other</th>\n",
       "      <td>832</td>\n",
       "    </tr>\n",
       "    <tr>\n",
       "      <th>Fog/Smog/Smoke</th>\n",
       "      <td>569</td>\n",
       "    </tr>\n",
       "    <tr>\n",
       "      <th>Sleet/Hail/Freezing Rain</th>\n",
       "      <td>113</td>\n",
       "    </tr>\n",
       "    <tr>\n",
       "      <th>Blowing Sand/Dirt</th>\n",
       "      <td>56</td>\n",
       "    </tr>\n",
       "    <tr>\n",
       "      <th>Severe Crosswind</th>\n",
       "      <td>25</td>\n",
       "    </tr>\n",
       "    <tr>\n",
       "      <th>Partly Cloudy</th>\n",
       "      <td>5</td>\n",
       "    </tr>\n",
       "  </tbody>\n",
       "</table>\n",
       "</div>"
      ],
      "text/plain": [
       "                          WEATHER\n",
       "Clear                      111135\n",
       "Raining                     33145\n",
       "Overcast                    27714\n",
       "Unknown                     15091\n",
       "Snowing                       907\n",
       "Other                         832\n",
       "Fog/Smog/Smoke                569\n",
       "Sleet/Hail/Freezing Rain      113\n",
       "Blowing Sand/Dirt              56\n",
       "Severe Crosswind               25\n",
       "Partly Cloudy                   5"
      ]
     },
     "execution_count": 15,
     "metadata": {},
     "output_type": "execute_result"
    }
   ],
   "source": [
    "Size= df_data_new['WEATHER'].shape[0]\n",
    "Unique_Values= (df_data_new[('WEATHER')].nunique())\n",
    "Labels = df_data_new['WEATHER'].unique()\n",
    "Nulls_Counts = df_data_new['WEATHER'].isnull().sum()\n",
    "Mode = df_data_new['WEATHER'].mode()[0]\n",
    "Value_Counts = df_data_new['WEATHER'].value_counts().head(10)\n",
    "print('Variable WEATHER Size = {}'.format(Size))\n",
    "print('Variable WEATHER Unique Values = {}'.format(Unique_Values))\n",
    "print('Variable WEATHER Nulls = {}'.format(Nulls_Counts))\n",
    "print('Variable WEATHER Mode = {}'.format(Mode))\n",
    "\n",
    "\n",
    "barplot = df_data_new['WEATHER'].value_counts().plot(kind='bar',fontsize=12)\n",
    "barplot.set_xlabel(\"Labels\")\n",
    "barplot.set_ylabel(\"Frequency\" )                                                \n",
    "plt.show()\n",
    "\n",
    "\n",
    "df_data_new['WEATHER'].value_counts().to_frame()\n"
   ]
  },
  {
   "cell_type": "markdown",
   "metadata": {},
   "source": [
    "The **ROADCOND feature** describes the condition of the road during the collision as is distributed as follows: "
   ]
  },
  {
   "cell_type": "code",
   "execution_count": 16,
   "metadata": {},
   "outputs": [
    {
     "name": "stdout",
     "output_type": "stream",
     "text": [
      "Variable ROADCOND Size = 194673\n",
      "Variable ROADCOND Unique Values = 9\n",
      "Variable ROADCOND Nulls = 5012\n",
      "Variable ROADCOND Mode = Dry\n"
     ]
    },
    {
     "data": {
      "image/png": "[encoded data removed]",
      "text/plain": [
       "<Figure size 432x288 with 1 Axes>"
      ]
     },
     "metadata": {
      "needs_background": "light"
     },
     "output_type": "display_data"
    },
    {
     "data": {
      "text/html": [
       "<div>\n",
       "<style scoped>\n",
       "    .dataframe tbody tr th:only-of-type {\n",
       "        vertical-align: middle;\n",
       "    }\n",
       "\n",
       "    .dataframe tbody tr th {\n",
       "        vertical-align: top;\n",
       "    }\n",
       "\n",
       "    .dataframe thead th {\n",
       "        text-align: right;\n",
       "    }\n",
       "</style>\n",
       "<table border=\"1\" class=\"dataframe\">\n",
       "  <thead>\n",
       "    <tr style=\"text-align: right;\">\n",
       "      <th></th>\n",
       "      <th>ROADCOND</th>\n",
       "    </tr>\n",
       "  </thead>\n",
       "  <tbody>\n",
       "    <tr>\n",
       "      <th>Dry</th>\n",
       "      <td>124510</td>\n",
       "    </tr>\n",
       "    <tr>\n",
       "      <th>Wet</th>\n",
       "      <td>47474</td>\n",
       "    </tr>\n",
       "    <tr>\n",
       "      <th>Unknown</th>\n",
       "      <td>15078</td>\n",
       "    </tr>\n",
       "    <tr>\n",
       "      <th>Ice</th>\n",
       "      <td>1209</td>\n",
       "    </tr>\n",
       "    <tr>\n",
       "      <th>Snow/Slush</th>\n",
       "      <td>1004</td>\n",
       "    </tr>\n",
       "    <tr>\n",
       "      <th>Other</th>\n",
       "      <td>132</td>\n",
       "    </tr>\n",
       "    <tr>\n",
       "      <th>Standing Water</th>\n",
       "      <td>115</td>\n",
       "    </tr>\n",
       "    <tr>\n",
       "      <th>Sand/Mud/Dirt</th>\n",
       "      <td>75</td>\n",
       "    </tr>\n",
       "    <tr>\n",
       "      <th>Oil</th>\n",
       "      <td>64</td>\n",
       "    </tr>\n",
       "  </tbody>\n",
       "</table>\n",
       "</div>"
      ],
      "text/plain": [
       "                ROADCOND\n",
       "Dry               124510\n",
       "Wet                47474\n",
       "Unknown            15078\n",
       "Ice                 1209\n",
       "Snow/Slush          1004\n",
       "Other                132\n",
       "Standing Water       115\n",
       "Sand/Mud/Dirt         75\n",
       "Oil                   64"
      ]
     },
     "execution_count": 16,
     "metadata": {},
     "output_type": "execute_result"
    }
   ],
   "source": [
    "df_data_new['ROADCOND'].value_counts().to_frame()\n",
    "\n",
    "Size= df_data_new['ROADCOND'].shape[0]\n",
    "Unique_Values= (df_data_new[('ROADCOND')].nunique())\n",
    "Labels = df_data_new['ROADCOND'].unique()\n",
    "Nulls_Counts = df_data_new['ROADCOND'].isnull().sum()\n",
    "Mode = df_data_new['ROADCOND'].mode()[0]\n",
    "Value_Counts = df_data_new['ROADCOND'].value_counts().head(10)\n",
    "\n",
    "print('Variable ROADCOND Size = {}'.format(Size))\n",
    "print('Variable ROADCOND Unique Values = {}'.format(Unique_Values))\n",
    "print('Variable ROADCOND Nulls = {}'.format(Nulls_Counts))\n",
    "print('Variable ROADCOND Mode = {}'.format(Mode))\n",
    "\n",
    "barplot = df_data_new['ROADCOND'].value_counts().plot(kind='bar',fontsize=12)\n",
    "barplot.set_xlabel(\"Labels\")\n",
    "barplot.set_ylabel(\"Frequency\" )                                                \n",
    "plt.show()\n",
    "\n",
    "\n",
    "df_data_new['ROADCOND'].value_counts().to_frame()\n"
   ]
  },
  {
   "cell_type": "markdown",
   "metadata": {},
   "source": [
    "The **LIGHTCOND feature** refers to the **light conditions on the moment of the accident** and is distributed as follows:\n"
   ]
  },
  {
   "cell_type": "code",
   "execution_count": 17,
   "metadata": {},
   "outputs": [
    {
     "name": "stdout",
     "output_type": "stream",
     "text": [
      "Variable LIGHTCOND Size = 194673\n",
      "Variable LIGHTCOND Unique Values = 9\n",
      "Variable LIGHTCOND Nulls = 5170\n",
      "Variable LIGHTCOND Mode = Daylight\n"
     ]
    },
    {
     "data": {
      "image/png": "[encoded data removed]",
      "text/plain": [
       "<Figure size 432x288 with 1 Axes>"
      ]
     },
     "metadata": {
      "needs_background": "light"
     },
     "output_type": "display_data"
    },
    {
     "data": {
      "text/html": [
       "<div>\n",
       "<style scoped>\n",
       "    .dataframe tbody tr th:only-of-type {\n",
       "        vertical-align: middle;\n",
       "    }\n",
       "\n",
       "    .dataframe tbody tr th {\n",
       "        vertical-align: top;\n",
       "    }\n",
       "\n",
       "    .dataframe thead th {\n",
       "        text-align: right;\n",
       "    }\n",
       "</style>\n",
       "<table border=\"1\" class=\"dataframe\">\n",
       "  <thead>\n",
       "    <tr style=\"text-align: right;\">\n",
       "      <th></th>\n",
       "      <th>LIGHTCOND</th>\n",
       "    </tr>\n",
       "  </thead>\n",
       "  <tbody>\n",
       "    <tr>\n",
       "      <th>Daylight</th>\n",
       "      <td>116137</td>\n",
       "    </tr>\n",
       "    <tr>\n",
       "      <th>Dark - Street Lights On</th>\n",
       "      <td>48507</td>\n",
       "    </tr>\n",
       "    <tr>\n",
       "      <th>Unknown</th>\n",
       "      <td>13473</td>\n",
       "    </tr>\n",
       "    <tr>\n",
       "      <th>Dusk</th>\n",
       "      <td>5902</td>\n",
       "    </tr>\n",
       "    <tr>\n",
       "      <th>Dawn</th>\n",
       "      <td>2502</td>\n",
       "    </tr>\n",
       "    <tr>\n",
       "      <th>Dark - No Street Lights</th>\n",
       "      <td>1537</td>\n",
       "    </tr>\n",
       "    <tr>\n",
       "      <th>Dark - Street Lights Off</th>\n",
       "      <td>1199</td>\n",
       "    </tr>\n",
       "    <tr>\n",
       "      <th>Other</th>\n",
       "      <td>235</td>\n",
       "    </tr>\n",
       "    <tr>\n",
       "      <th>Dark - Unknown Lighting</th>\n",
       "      <td>11</td>\n",
       "    </tr>\n",
       "  </tbody>\n",
       "</table>\n",
       "</div>"
      ],
      "text/plain": [
       "                          LIGHTCOND\n",
       "Daylight                     116137\n",
       "Dark - Street Lights On       48507\n",
       "Unknown                       13473\n",
       "Dusk                           5902\n",
       "Dawn                           2502\n",
       "Dark - No Street Lights        1537\n",
       "Dark - Street Lights Off       1199\n",
       "Other                           235\n",
       "Dark - Unknown Lighting          11"
      ]
     },
     "execution_count": 17,
     "metadata": {},
     "output_type": "execute_result"
    }
   ],
   "source": [
    "df_data_new['LIGHTCOND'].value_counts().to_frame()\n",
    "\n",
    "Size= df_data_new['LIGHTCOND'].shape[0]\n",
    "Unique_Values= (df_data_new[('LIGHTCOND')].nunique())\n",
    "Labels = df_data_new['LIGHTCOND'].unique()\n",
    "Nulls_Counts = df_data_new['LIGHTCOND'].isnull().sum()\n",
    "Mode = df_data_new['LIGHTCOND'].mode()[0]\n",
    "\n",
    "\n",
    "print('Variable LIGHTCOND Size = {}'.format(Size))\n",
    "print('Variable LIGHTCOND Unique Values = {}'.format(Unique_Values))\n",
    "print('Variable LIGHTCOND Nulls = {}'.format(Nulls_Counts))\n",
    "print('Variable LIGHTCOND Mode = {}'.format(Mode))\n",
    "\n",
    "barplot = df_data_new['LIGHTCOND'].value_counts().plot(kind='bar',fontsize=12)\n",
    "barplot.set_xlabel(\"Labels\")\n",
    "barplot.set_ylabel(\"Frequency\" )                                                \n",
    "plt.show()\n",
    "\n",
    "\n",
    "df_data_new['LIGHTCOND'].value_counts().to_frame()\n"
   ]
  },
  {
   "cell_type": "markdown",
   "metadata": {},
   "source": [
    "The  **SPEEDING feature** indicates whether or not speeding was a factor in the accident. From the metadata understanding, a **blank** is not a null value but **indicates that the vehicle was not speeding**. The observations have the following distribution:  "
   ]
  },
  {
   "cell_type": "code",
   "execution_count": 18,
   "metadata": {},
   "outputs": [
    {
     "name": "stdout",
     "output_type": "stream",
     "text": [
      "Variable SPEEDING Size = 194673\n",
      "Variable SPEEDING Blanks (Not Speeding)  = 185340\n",
      "Variable SPEEDING YES   = Y    9333\n",
      "Name: SPEEDING, dtype: int64\n"
     ]
    }
   ],
   "source": [
    "Size= df_data_new['SPEEDING'].shape[0]\n",
    "Blanks = df_data_new['SPEEDING'].isnull().sum()\n",
    "Speeding = df_data_new['SPEEDING'].value_counts()\n",
    "\n",
    "print('Variable SPEEDING Size = {}'.format(Size))\n",
    "print('Variable SPEEDING Blanks (Not Speeding)  = {}'.format(Blanks))\n",
    "print('Variable SPEEDING YES   = {}'.format(Speeding))\n"
   ]
  },
  {
   "cell_type": "markdown",
   "metadata": {},
   "source": [
    "## PART III \n",
    "### DATA PREPARATION \n",
    "\n",
    "This section includes the activities required for preparing the final dataset that will be used for modeling. As best practice, with creation a new dataframe to perform the required transformations."
   ]
  },
  {
   "cell_type": "code",
   "execution_count": 19,
   "metadata": {},
   "outputs": [
    {
     "data": {
      "text/html": [
       "<div>\n",
       "<style scoped>\n",
       "    .dataframe tbody tr th:only-of-type {\n",
       "        vertical-align: middle;\n",
       "    }\n",
       "\n",
       "    .dataframe tbody tr th {\n",
       "        vertical-align: top;\n",
       "    }\n",
       "\n",
       "    .dataframe thead th {\n",
       "        text-align: right;\n",
       "    }\n",
       "</style>\n",
       "<table border=\"1\" class=\"dataframe\">\n",
       "  <thead>\n",
       "    <tr style=\"text-align: right;\">\n",
       "      <th></th>\n",
       "      <th>SEVERITYCODE</th>\n",
       "      <th>UNDERINFL</th>\n",
       "      <th>WEATHER</th>\n",
       "      <th>ROADCOND</th>\n",
       "      <th>LIGHTCOND</th>\n",
       "      <th>SPEEDING</th>\n",
       "    </tr>\n",
       "  </thead>\n",
       "  <tbody>\n",
       "    <tr>\n",
       "      <th>0</th>\n",
       "      <td>2</td>\n",
       "      <td>N</td>\n",
       "      <td>Overcast</td>\n",
       "      <td>Wet</td>\n",
       "      <td>Daylight</td>\n",
       "      <td>NaN</td>\n",
       "    </tr>\n",
       "    <tr>\n",
       "      <th>1</th>\n",
       "      <td>1</td>\n",
       "      <td>0</td>\n",
       "      <td>Raining</td>\n",
       "      <td>Wet</td>\n",
       "      <td>Dark - Street Lights On</td>\n",
       "      <td>NaN</td>\n",
       "    </tr>\n",
       "    <tr>\n",
       "      <th>2</th>\n",
       "      <td>1</td>\n",
       "      <td>0</td>\n",
       "      <td>Overcast</td>\n",
       "      <td>Dry</td>\n",
       "      <td>Daylight</td>\n",
       "      <td>NaN</td>\n",
       "    </tr>\n",
       "    <tr>\n",
       "      <th>3</th>\n",
       "      <td>1</td>\n",
       "      <td>N</td>\n",
       "      <td>Clear</td>\n",
       "      <td>Dry</td>\n",
       "      <td>Daylight</td>\n",
       "      <td>NaN</td>\n",
       "    </tr>\n",
       "    <tr>\n",
       "      <th>4</th>\n",
       "      <td>2</td>\n",
       "      <td>0</td>\n",
       "      <td>Raining</td>\n",
       "      <td>Wet</td>\n",
       "      <td>Daylight</td>\n",
       "      <td>NaN</td>\n",
       "    </tr>\n",
       "  </tbody>\n",
       "</table>\n",
       "</div>"
      ],
      "text/plain": [
       "   SEVERITYCODE UNDERINFL   WEATHER ROADCOND                LIGHTCOND SPEEDING\n",
       "0             2         N  Overcast      Wet                 Daylight      NaN\n",
       "1             1         0   Raining      Wet  Dark - Street Lights On      NaN\n",
       "2             1         0  Overcast      Dry                 Daylight      NaN\n",
       "3             1         N     Clear      Dry                 Daylight      NaN\n",
       "4             2         0   Raining      Wet                 Daylight      NaN"
      ]
     },
     "execution_count": 19,
     "metadata": {},
     "output_type": "execute_result"
    }
   ],
   "source": [
    "#creation a new dataframe   \n",
    "df_data_dp = df_data_new[['SEVERITYCODE', 'UNDERINFL','WEATHER', 'ROADCOND','LIGHTCOND','SPEEDING']].copy()\n",
    "df_data_dp.head()"
   ]
  },
  {
   "cell_type": "markdown",
   "metadata": {},
   "source": [
    "Starting with **UNDERINFL**, this column will be encoded; values N and 0 (zero) will be converted to 0 (zero= no influence of drugs/alcohol) and values Y and 1 will be converted to 1 (1= under influence of drugs/alcohol)"
   ]
  },
  {
   "cell_type": "code",
   "execution_count": 20,
   "metadata": {},
   "outputs": [
    {
     "data": {
      "text/html": [
       "<div>\n",
       "<style scoped>\n",
       "    .dataframe tbody tr th:only-of-type {\n",
       "        vertical-align: middle;\n",
       "    }\n",
       "\n",
       "    .dataframe tbody tr th {\n",
       "        vertical-align: top;\n",
       "    }\n",
       "\n",
       "    .dataframe thead th {\n",
       "        text-align: right;\n",
       "    }\n",
       "</style>\n",
       "<table border=\"1\" class=\"dataframe\">\n",
       "  <thead>\n",
       "    <tr style=\"text-align: right;\">\n",
       "      <th></th>\n",
       "      <th>UNDERINFL</th>\n",
       "    </tr>\n",
       "  </thead>\n",
       "  <tbody>\n",
       "    <tr>\n",
       "      <th>0.0</th>\n",
       "      <td>180668</td>\n",
       "    </tr>\n",
       "    <tr>\n",
       "      <th>1.0</th>\n",
       "      <td>9121</td>\n",
       "    </tr>\n",
       "  </tbody>\n",
       "</table>\n",
       "</div>"
      ],
      "text/plain": [
       "     UNDERINFL\n",
       "0.0     180668\n",
       "1.0       9121"
      ]
     },
     "execution_count": 20,
     "metadata": {},
     "output_type": "execute_result"
    }
   ],
   "source": [
    "df_data_dp['UNDERINFL'] = df_data_dp['UNDERINFL'].map({'N': 0, '0': 0, 'Y': 1, '1': 1})\n",
    "df_data_dp['UNDERINFL'].value_counts().to_frame()"
   ]
  },
  {
   "cell_type": "markdown",
   "metadata": {},
   "source": [
    "For column **SPEEDING**  blank values will be considered a by negative value 0 (zero = not speeding) and  Y will be replaced by a positive negative 1, meaning there was conditions of speeding by the driver"
   ]
  },
  {
   "cell_type": "code",
   "execution_count": 21,
   "metadata": {},
   "outputs": [
    {
     "data": {
      "text/html": [
       "<div>\n",
       "<style scoped>\n",
       "    .dataframe tbody tr th:only-of-type {\n",
       "        vertical-align: middle;\n",
       "    }\n",
       "\n",
       "    .dataframe tbody tr th {\n",
       "        vertical-align: top;\n",
       "    }\n",
       "\n",
       "    .dataframe thead th {\n",
       "        text-align: right;\n",
       "    }\n",
       "</style>\n",
       "<table border=\"1\" class=\"dataframe\">\n",
       "  <thead>\n",
       "    <tr style=\"text-align: right;\">\n",
       "      <th></th>\n",
       "      <th>SPEEDING</th>\n",
       "    </tr>\n",
       "  </thead>\n",
       "  <tbody>\n",
       "    <tr>\n",
       "      <th>0.0</th>\n",
       "      <td>185340</td>\n",
       "    </tr>\n",
       "    <tr>\n",
       "      <th>1.0</th>\n",
       "      <td>9333</td>\n",
       "    </tr>\n",
       "  </tbody>\n",
       "</table>\n",
       "</div>"
      ],
      "text/plain": [
       "     SPEEDING\n",
       "0.0    185340\n",
       "1.0      9333"
      ]
     },
     "execution_count": 21,
     "metadata": {},
     "output_type": "execute_result"
    }
   ],
   "source": [
    "df_data_dp['SPEEDING'] = df_data_dp['SPEEDING'].map({'Y': 1})\n",
    "df_data_dp['SPEEDING'].replace(np.nan, 0, inplace=True)\n",
    "df_data_dp['SPEEDING'].value_counts().to_frame()"
   ]
  },
  {
   "cell_type": "markdown",
   "metadata": {},
   "source": [
    "For column **WEATHER**  an encoding will be performed to reduce the number of unique values, from 11 t 5"
   ]
  },
  {
   "cell_type": "code",
   "execution_count": 22,
   "metadata": {},
   "outputs": [
    {
     "name": "stdout",
     "output_type": "stream",
     "text": [
      "Unique Values = 11 \n",
      "Labels = \n",
      "Clear                       111135\n",
      "Raining                      33145\n",
      "Overcast                     27714\n",
      "Unknown                      15091\n",
      "Snowing                        907\n",
      "Other                          832\n",
      "Fog/Smog/Smoke                 569\n",
      "Sleet/Hail/Freezing Rain       113\n",
      "Blowing Sand/Dirt               56\n",
      "Severe Crosswind                25\n",
      "Partly Cloudy                    5\n",
      "Name: WEATHER, dtype: int64\n"
     ]
    }
   ],
   "source": [
    "print('Unique Values = {} \\nLabels = \\n{}'.format(df_data_dp.WEATHER.nunique(), \\\n",
    "                                                df_data_dp.WEATHER.value_counts() ))\n"
   ]
  },
  {
   "cell_type": "code",
   "execution_count": 23,
   "metadata": {},
   "outputs": [
    {
     "name": "stdout",
     "output_type": "stream",
     "text": [
      "Unique Values = 5 \n",
      "Labels = \n",
      "Clear Weather                 111135\n",
      "Raining                        33145\n",
      "Overcast_Fog_Cloudy            28288\n",
      "Unknown_Other Weather Cond     15979\n",
      "Snowing_Hail                    1020\n",
      "Name: WEATHER, dtype: int64\n"
     ]
    }
   ],
   "source": [
    "# manual enconding of some of the unique values in order to have a \"compacted\" version\n",
    "# Overcast = Overcast_fog_cloudly\n",
    "# Fog/Smog/Smoke =  Overcast_fog_cloudly\n",
    "# PartlyCloudy =  Overcast_fog_cloudly\n",
    "# Snowing  =  Snowing_Hail \n",
    "# Sleet/Hail/Freezing Rain =  Snowing_Hail\n",
    "\n",
    "df_data_dp['WEATHER'] = df_data_dp['WEATHER'].map({'Clear': 'Clear Weather', 'Raining': 'Raining', 'Overcast': 'Overcast_Fog_Cloudy', 'Unknown': 'Unknown_Other Weather Cond', 'Snowing': 'Snowing_Hail', 'Other': 'Unknown_Other Weather Cond', 'Fog/Smog/Smoke': 'Overcast_Fog_Cloudy', 'Sleet/Hail/Freezing Rain': 'Snowing_Hail', 'Blowing Sand/Dirt': 'Unknown_Other Weather Cond', 'Severe Crosswing' : 'Unknown_Other Weather Cond', 'Partly Cloudy': 'Overcast_Fog_Cloudy'})\n",
    "df_data_dp['WEATHER'].value_counts().to_frame()\n",
    "\n",
    "print('Unique Values = {} \\nLabels = \\n{}'.format(df_data_dp.WEATHER.nunique(), \\\n",
    "                                                df_data_dp.WEATHER.value_counts() ))\n"
   ]
  },
  {
   "cell_type": "markdown",
   "metadata": {},
   "source": [
    "For column **ROADCOND**  an encoding will be performed to reduce the number of unique values, from 9 to 3"
   ]
  },
  {
   "cell_type": "code",
   "execution_count": 24,
   "metadata": {},
   "outputs": [
    {
     "name": "stdout",
     "output_type": "stream",
     "text": [
      "Unique Values = 9 \n",
      "Labels = \n",
      "Dry               124510\n",
      "Wet                47474\n",
      "Unknown            15078\n",
      "Ice                 1209\n",
      "Snow/Slush          1004\n",
      "Other                132\n",
      "Standing Water       115\n",
      "Sand/Mud/Dirt         75\n",
      "Oil                   64\n",
      "Name: ROADCOND, dtype: int64\n"
     ]
    }
   ],
   "source": [
    "print('Unique Values = {} \\nLabels = \\n{}'.format(df_data_dp.ROADCOND.nunique(), \\\n",
    "                                                df_data_dp.ROADCOND.value_counts() ))\n"
   ]
  },
  {
   "cell_type": "code",
   "execution_count": 25,
   "metadata": {},
   "outputs": [
    {
     "name": "stdout",
     "output_type": "stream",
     "text": [
      "Unique Values = 3 \n",
      "Labels = \n",
      "Normal Road Cond       124510\n",
      "Dangerous Road Cond     48937\n",
      "Unknown Road Cond       15210\n",
      "Name: ROADCOND, dtype: int64\n"
     ]
    }
   ],
   "source": [
    "# manual enconding of some of the unique values in order to have a \"compacted\" version\n",
    "# normal road conditions  vs  dangerous road conditions\n",
    "\n",
    "df_data_dp['ROADCOND'] = df_data_dp['ROADCOND'].map({'Dry': 'Normal Road Cond', 'Wet': 'Dangerous Road Cond', 'Unknown': 'Unknown Road Cond', 'Ice': 'Dangerous Road Cond', 'Snow_Slush': 'Dangerous Road Cond','Other': 'Unknown Road Cond', 'Standing Water': 'Dangerous Road Cond', 'Sand/Mud/Dirt': 'Dangerous Road Cond', 'Oil': 'Dangerous Road Cond'})\n",
    "df_data_dp['ROADCOND'].value_counts().to_frame()\n",
    "\n",
    "print('Unique Values = {} \\nLabels = \\n{}'.format(df_data_dp.ROADCOND.nunique(), \\\n",
    "                                                df_data_dp.ROADCOND.value_counts() ))"
   ]
  },
  {
   "cell_type": "markdown",
   "metadata": {},
   "source": [
    "For column **LIGHTCOND** an encoding will be performed to reduce the number of unique values, from 9 t 5"
   ]
  },
  {
   "cell_type": "code",
   "execution_count": 26,
   "metadata": {},
   "outputs": [
    {
     "name": "stdout",
     "output_type": "stream",
     "text": [
      "Unique Values = 9 \n",
      "Labels = \n",
      "Daylight                    116137\n",
      "Dark - Street Lights On      48507\n",
      "Unknown                      13473\n",
      "Dusk                          5902\n",
      "Dawn                          2502\n",
      "Dark - No Street Lights       1537\n",
      "Dark - Street Lights Off      1199\n",
      "Other                          235\n",
      "Dark - Unknown Lighting         11\n",
      "Name: LIGHTCOND, dtype: int64\n"
     ]
    }
   ],
   "source": [
    "print('Unique Values = {} \\nLabels = \\n{}'.format(df_data_dp.LIGHTCOND.nunique(), \\\n",
    "                                                df_data_dp.LIGHTCOND.value_counts() ))\n"
   ]
  },
  {
   "cell_type": "code",
   "execution_count": 27,
   "metadata": {},
   "outputs": [
    {
     "name": "stdout",
     "output_type": "stream",
     "text": [
      "Unique Values = 5 \n",
      "Labels = \n",
      "Daylight              116137\n",
      "Dark_WithLights        48507\n",
      "Unknown Light Cond     13708\n",
      "Dusk_Dawn               8404\n",
      "Dark_NoLights           2747\n",
      "Name: LIGHTCOND, dtype: int64\n"
     ]
    }
   ],
   "source": [
    "# manual enconding of some of the unique values in order to have a \"compacted\" version\n",
    "# daylight conditions  vs  Low light (dusk_dawn) vs Dark With Lights vs Dark Without Lights \n",
    "\n",
    "df_data_dp['LIGHTCOND'] = df_data_dp['LIGHTCOND'].map({'Daylight': 'Daylight', 'Dark - Street Lights On': 'Dark_WithLights', 'Unknown': 'Unknown Light Cond', 'Dusk': 'Dusk_Dawn', 'Dawn': 'Dusk_Dawn','Dark - No Street Lights': 'Dark_NoLights', 'Dark - Street Lights Off': 'Dark_NoLights', 'Other': 'Unknown Light Cond', 'Dark - Unknown Lighting': 'Dark_NoLights'})\n",
    "df_data_dp['LIGHTCOND'].value_counts().to_frame()\n",
    "\n",
    "print('Unique Values = {} \\nLabels = \\n{}'.format(df_data_dp.LIGHTCOND.nunique(), \\\n",
    "                                                df_data_dp.LIGHTCOND.value_counts() ))"
   ]
  },
  {
   "cell_type": "markdown",
   "metadata": {},
   "source": [
    "**Transformation of the above categorical features WEATHER, ROADCOND and LIGHTCOND into vectors** with \"get_dummies\" method."
   ]
  },
  {
   "cell_type": "code",
   "execution_count": 28,
   "metadata": {},
   "outputs": [],
   "source": [
    "df_data_dp = pd.concat([df_data_dp.drop(['WEATHER', 'ROADCOND', 'LIGHTCOND'], axis=1), \n",
    "           pd.get_dummies(df_data_dp['ROADCOND']),\n",
    "           pd.get_dummies(df_data_dp['LIGHTCOND']),\n",
    "           pd.get_dummies(df_data_dp['WEATHER'])], axis=1)"
   ]
  },
  {
   "cell_type": "code",
   "execution_count": 29,
   "metadata": {},
   "outputs": [
    {
     "data": {
      "text/html": [
       "<div>\n",
       "<style scoped>\n",
       "    .dataframe tbody tr th:only-of-type {\n",
       "        vertical-align: middle;\n",
       "    }\n",
       "\n",
       "    .dataframe tbody tr th {\n",
       "        vertical-align: top;\n",
       "    }\n",
       "\n",
       "    .dataframe thead th {\n",
       "        text-align: right;\n",
       "    }\n",
       "</style>\n",
       "<table border=\"1\" class=\"dataframe\">\n",
       "  <thead>\n",
       "    <tr style=\"text-align: right;\">\n",
       "      <th></th>\n",
       "      <th>SEVERITYCODE</th>\n",
       "      <th>UNDERINFL</th>\n",
       "      <th>SPEEDING</th>\n",
       "      <th>Dangerous Road Cond</th>\n",
       "      <th>Normal Road Cond</th>\n",
       "      <th>Unknown Road Cond</th>\n",
       "      <th>Dark_NoLights</th>\n",
       "      <th>Dark_WithLights</th>\n",
       "      <th>Daylight</th>\n",
       "      <th>Dusk_Dawn</th>\n",
       "      <th>Unknown Light Cond</th>\n",
       "      <th>Clear Weather</th>\n",
       "      <th>Overcast_Fog_Cloudy</th>\n",
       "      <th>Raining</th>\n",
       "      <th>Snowing_Hail</th>\n",
       "      <th>Unknown_Other Weather Cond</th>\n",
       "    </tr>\n",
       "  </thead>\n",
       "  <tbody>\n",
       "    <tr>\n",
       "      <th>0</th>\n",
       "      <td>2</td>\n",
       "      <td>0.0</td>\n",
       "      <td>0.0</td>\n",
       "      <td>1</td>\n",
       "      <td>0</td>\n",
       "      <td>0</td>\n",
       "      <td>0</td>\n",
       "      <td>0</td>\n",
       "      <td>1</td>\n",
       "      <td>0</td>\n",
       "      <td>0</td>\n",
       "      <td>0</td>\n",
       "      <td>1</td>\n",
       "      <td>0</td>\n",
       "      <td>0</td>\n",
       "      <td>0</td>\n",
       "    </tr>\n",
       "    <tr>\n",
       "      <th>1</th>\n",
       "      <td>1</td>\n",
       "      <td>0.0</td>\n",
       "      <td>0.0</td>\n",
       "      <td>1</td>\n",
       "      <td>0</td>\n",
       "      <td>0</td>\n",
       "      <td>0</td>\n",
       "      <td>1</td>\n",
       "      <td>0</td>\n",
       "      <td>0</td>\n",
       "      <td>0</td>\n",
       "      <td>0</td>\n",
       "      <td>0</td>\n",
       "      <td>1</td>\n",
       "      <td>0</td>\n",
       "      <td>0</td>\n",
       "    </tr>\n",
       "    <tr>\n",
       "      <th>2</th>\n",
       "      <td>1</td>\n",
       "      <td>0.0</td>\n",
       "      <td>0.0</td>\n",
       "      <td>0</td>\n",
       "      <td>1</td>\n",
       "      <td>0</td>\n",
       "      <td>0</td>\n",
       "      <td>0</td>\n",
       "      <td>1</td>\n",
       "      <td>0</td>\n",
       "      <td>0</td>\n",
       "      <td>0</td>\n",
       "      <td>1</td>\n",
       "      <td>0</td>\n",
       "      <td>0</td>\n",
       "      <td>0</td>\n",
       "    </tr>\n",
       "    <tr>\n",
       "      <th>3</th>\n",
       "      <td>1</td>\n",
       "      <td>0.0</td>\n",
       "      <td>0.0</td>\n",
       "      <td>0</td>\n",
       "      <td>1</td>\n",
       "      <td>0</td>\n",
       "      <td>0</td>\n",
       "      <td>0</td>\n",
       "      <td>1</td>\n",
       "      <td>0</td>\n",
       "      <td>0</td>\n",
       "      <td>1</td>\n",
       "      <td>0</td>\n",
       "      <td>0</td>\n",
       "      <td>0</td>\n",
       "      <td>0</td>\n",
       "    </tr>\n",
       "    <tr>\n",
       "      <th>4</th>\n",
       "      <td>2</td>\n",
       "      <td>0.0</td>\n",
       "      <td>0.0</td>\n",
       "      <td>1</td>\n",
       "      <td>0</td>\n",
       "      <td>0</td>\n",
       "      <td>0</td>\n",
       "      <td>0</td>\n",
       "      <td>1</td>\n",
       "      <td>0</td>\n",
       "      <td>0</td>\n",
       "      <td>0</td>\n",
       "      <td>0</td>\n",
       "      <td>1</td>\n",
       "      <td>0</td>\n",
       "      <td>0</td>\n",
       "    </tr>\n",
       "  </tbody>\n",
       "</table>\n",
       "</div>"
      ],
      "text/plain": [
       "   SEVERITYCODE  UNDERINFL  SPEEDING  Dangerous Road Cond  Normal Road Cond  \\\n",
       "0             2        0.0       0.0                    1                 0   \n",
       "1             1        0.0       0.0                    1                 0   \n",
       "2             1        0.0       0.0                    0                 1   \n",
       "3             1        0.0       0.0                    0                 1   \n",
       "4             2        0.0       0.0                    1                 0   \n",
       "\n",
       "   Unknown Road Cond  Dark_NoLights  Dark_WithLights  Daylight  Dusk_Dawn  \\\n",
       "0                  0              0                0         1          0   \n",
       "1                  0              0                1         0          0   \n",
       "2                  0              0                0         1          0   \n",
       "3                  0              0                0         1          0   \n",
       "4                  0              0                0         1          0   \n",
       "\n",
       "   Unknown Light Cond  Clear Weather  Overcast_Fog_Cloudy  Raining  \\\n",
       "0                   0              0                    1        0   \n",
       "1                   0              0                    0        1   \n",
       "2                   0              0                    1        0   \n",
       "3                   0              1                    0        0   \n",
       "4                   0              0                    0        1   \n",
       "\n",
       "   Snowing_Hail  Unknown_Other Weather Cond  \n",
       "0             0                           0  \n",
       "1             0                           0  \n",
       "2             0                           0  \n",
       "3             0                           0  \n",
       "4             0                           0  "
      ]
     },
     "execution_count": 29,
     "metadata": {},
     "output_type": "execute_result"
    }
   ],
   "source": [
    "df_data_dp.head()"
   ]
  },
  {
   "cell_type": "code",
   "execution_count": 30,
   "metadata": {},
   "outputs": [
    {
     "data": {
      "text/plain": [
       "SEVERITYCODE                     0\n",
       "UNDERINFL                     4884\n",
       "SPEEDING                         0\n",
       "Dangerous Road Cond              0\n",
       "Normal Road Cond                 0\n",
       "Unknown Road Cond                0\n",
       "Dark_NoLights                    0\n",
       "Dark_WithLights                  0\n",
       "Daylight                         0\n",
       "Dusk_Dawn                        0\n",
       "Unknown Light Cond               0\n",
       "Clear Weather                    0\n",
       "Overcast_Fog_Cloudy              0\n",
       "Raining                          0\n",
       "Snowing_Hail                     0\n",
       "Unknown_Other Weather Cond       0\n",
       "dtype: int64"
      ]
     },
     "execution_count": 30,
     "metadata": {},
     "output_type": "execute_result"
    }
   ],
   "source": [
    "# a final search for missing values  \n",
    "df_data_dp.isnull().sum()"
   ]
  },
  {
   "cell_type": "code",
   "execution_count": 31,
   "metadata": {},
   "outputs": [
    {
     "data": {
      "text/plain": [
       "SEVERITYCODE                  0\n",
       "UNDERINFL                     0\n",
       "SPEEDING                      0\n",
       "Dangerous Road Cond           0\n",
       "Normal Road Cond              0\n",
       "Unknown Road Cond             0\n",
       "Dark_NoLights                 0\n",
       "Dark_WithLights               0\n",
       "Daylight                      0\n",
       "Dusk_Dawn                     0\n",
       "Unknown Light Cond            0\n",
       "Clear Weather                 0\n",
       "Overcast_Fog_Cloudy           0\n",
       "Raining                       0\n",
       "Snowing_Hail                  0\n",
       "Unknown_Other Weather Cond    0\n",
       "dtype: int64"
      ]
     },
     "execution_count": 31,
     "metadata": {},
     "output_type": "execute_result"
    }
   ],
   "source": [
    "# and dropping the null records for column UNDERINFL,  since is less than 3%\n",
    "df_data_dp.dropna(axis=0, inplace=True)\n",
    "df_data_dp.isnull().sum()"
   ]
  },
  {
   "cell_type": "code",
   "execution_count": 32,
   "metadata": {},
   "outputs": [
    {
     "data": {
      "text/plain": [
       "(189789, 16)"
      ]
     },
     "execution_count": 32,
     "metadata": {},
     "output_type": "execute_result"
    }
   ],
   "source": [
    "df_data_dp.shape"
   ]
  },
  {
   "cell_type": "markdown",
   "metadata": {},
   "source": [
    "As seen before, the data in the dataframe is not balanced."
   ]
  },
  {
   "cell_type": "code",
   "execution_count": 33,
   "metadata": {},
   "outputs": [
    {
     "data": {
      "text/html": [
       "<div>\n",
       "<style scoped>\n",
       "    .dataframe tbody tr th:only-of-type {\n",
       "        vertical-align: middle;\n",
       "    }\n",
       "\n",
       "    .dataframe tbody tr th {\n",
       "        vertical-align: top;\n",
       "    }\n",
       "\n",
       "    .dataframe thead th {\n",
       "        text-align: right;\n",
       "    }\n",
       "</style>\n",
       "<table border=\"1\" class=\"dataframe\">\n",
       "  <thead>\n",
       "    <tr style=\"text-align: right;\">\n",
       "      <th></th>\n",
       "      <th>SEVERITYCODE</th>\n",
       "    </tr>\n",
       "  </thead>\n",
       "  <tbody>\n",
       "    <tr>\n",
       "      <th>1</th>\n",
       "      <td>132630</td>\n",
       "    </tr>\n",
       "    <tr>\n",
       "      <th>2</th>\n",
       "      <td>57159</td>\n",
       "    </tr>\n",
       "  </tbody>\n",
       "</table>\n",
       "</div>"
      ],
      "text/plain": [
       "   SEVERITYCODE\n",
       "1        132630\n",
       "2         57159"
      ]
     },
     "execution_count": 33,
     "metadata": {},
     "output_type": "execute_result"
    }
   ],
   "source": [
    "df_data_dp['SEVERITYCODE'].value_counts().to_frame()"
   ]
  },
  {
   "cell_type": "markdown",
   "metadata": {},
   "source": [
    "To improve accuracy of preditive modelling, data needs to be balanced between the two categories of accident severity.\n",
    "It is clear that there is a much larger volume of accidents  involving property damages (code 1) rather than accidents involving injuries (code 2). If the model is trained  with this data it will most probably be biased.\n",
    "To fix this, data must be resampled and the choosen method is to down-sample the majority class, which means randomly removing observations from the majority class to prevent its signal from dominating the learning algorithm.\n",
    "\n",
    "The process will first separate observations from each class into different dataframes; next, the majority class is resampled  without replacement (eg, setting the number of observations to match the minority class); a final combination of the down-sampled majority class dataframe with the original minority class dataframe."
   ]
  },
  {
   "cell_type": "code",
   "execution_count": 34,
   "metadata": {},
   "outputs": [],
   "source": [
    "# Separate the majority and minority classes\n",
    "df_minority = df_data_dp[df_data_dp['SEVERITYCODE']==2]\n",
    "df_majority = df_data_dp[df_data_dp['SEVERITYCODE']==1]\n",
    "\n",
    "# Downsampling the majority class  to an equal  number of observations in the minority class\n",
    "\n",
    "df_majority = df_majority.sample(len(df_minority), random_state=0)\n",
    "\n",
    "# Concatenation of the majority and minority dataframes\n",
    "df_BBB = pd.concat([df_majority,df_minority])\n",
    "\n",
    "# Shuffle the dataset to prevent the model from getting biased by similar samples\n",
    "df_BBB = df_BBB.sample(frac=1, random_state=0)\n"
   ]
  },
  {
   "cell_type": "markdown",
   "metadata": {},
   "source": [
    "The process has produced a balanced dataframe as shown below:"
   ]
  },
  {
   "cell_type": "code",
   "execution_count": 35,
   "metadata": {},
   "outputs": [
    {
     "data": {
      "text/html": [
       "<div>\n",
       "<style scoped>\n",
       "    .dataframe tbody tr th:only-of-type {\n",
       "        vertical-align: middle;\n",
       "    }\n",
       "\n",
       "    .dataframe tbody tr th {\n",
       "        vertical-align: top;\n",
       "    }\n",
       "\n",
       "    .dataframe thead th {\n",
       "        text-align: right;\n",
       "    }\n",
       "</style>\n",
       "<table border=\"1\" class=\"dataframe\">\n",
       "  <thead>\n",
       "    <tr style=\"text-align: right;\">\n",
       "      <th></th>\n",
       "      <th>SEVERITYCODE</th>\n",
       "    </tr>\n",
       "  </thead>\n",
       "  <tbody>\n",
       "    <tr>\n",
       "      <th>2</th>\n",
       "      <td>57159</td>\n",
       "    </tr>\n",
       "    <tr>\n",
       "      <th>1</th>\n",
       "      <td>57159</td>\n",
       "    </tr>\n",
       "  </tbody>\n",
       "</table>\n",
       "</div>"
      ],
      "text/plain": [
       "   SEVERITYCODE\n",
       "2         57159\n",
       "1         57159"
      ]
     },
     "execution_count": 35,
     "metadata": {},
     "output_type": "execute_result"
    }
   ],
   "source": [
    "df_BBB['SEVERITYCODE'].value_counts().to_frame()\n"
   ]
  },
  {
   "cell_type": "markdown",
   "metadata": {},
   "source": [
    "**Correlation** is a common statistical technique used to understand whether and how pairs of variables are related helping to  better understand  available data. In the heatmap below shows, by using Pearson correlation, what features have a strong positive or negative correlation; as is possible to see, most of the variables have weak or no correlation at all"
   ]
  },
  {
   "cell_type": "code",
   "execution_count": 36,
   "metadata": {},
   "outputs": [
    {
     "data": {
      "text/plain": [
       "<matplotlib.axes._subplots.AxesSubplot at 0x2eeb92f6f60>"
      ]
     },
     "execution_count": 36,
     "metadata": {},
     "output_type": "execute_result"
    },
    {
     "data": {
      "image/png": "[encoded data removed]",
      "text/plain": [
       "<Figure size 864x864 with 2 Axes>"
      ]
     },
     "metadata": {
      "needs_background": "light"
     },
     "output_type": "display_data"
    }
   ],
   "source": [
    "# Finding most correlated features with the target variable using Pearson correlation coefficent\n",
    "plt.subplots(figsize=(12,12))\n",
    "sns.heatmap(df_BBB.corr(method='pearson').round(1), annot=True, vmin=-1., cmap='Blues', linewidths=.1)\n"
   ]
  },
  {
   "cell_type": "code",
   "execution_count": 37,
   "metadata": {},
   "outputs": [
    {
     "data": {
      "image/png": "[encoded data removed]",
      "text/plain": [
       "<Figure size 576x576 with 2 Axes>"
      ]
     },
     "metadata": {
      "needs_background": "light"
     },
     "output_type": "display_data"
    }
   ],
   "source": [
    "# the image above is difficult to read, so let's look at the top 10 correlation pairs\n",
    "\n",
    "k = 10 #top 10 \n",
    "corr_top10 = df_BBB.corr(method='pearson')\n",
    "\n",
    "plt.figure(figsize =(8,8))\n",
    "colunas = corr_top10.nlargest(k, 'SEVERITYCODE')['SEVERITYCODE'].index\n",
    "matriz = np.corrcoef(corr_top10[colunas].values.T)\n",
    "sns.heatmap(matriz.round(2), annot=True, cmap = 'Blues', yticklabels=colunas.values, xticklabels=colunas.values)\n",
    "plt.show()"
   ]
  },
  {
   "cell_type": "markdown",
   "metadata": {},
   "source": [
    "It is easier to understand what the available data tells: there is some considerable correlation between ROAD CONDITIONS,  WEATHER CONDITIONS and LIGHT CONDITIONS. However, variables related with SPEEDING and/or ALCOHOL/DRUGS INFLUENCE do not present significant correlation with the accident severity. In this line, dataframe will be submitted to modelling without those latter variables mentioned."
   ]
  },
  {
   "cell_type": "markdown",
   "metadata": {},
   "source": [
    "## PART IV\n",
    "### MODELLING AND RESULTS \n",
    "\n",
    "The objective of this study is predict the severity of an accident based on\n",
    "1. weather conditions\n",
    "2. road conditions\n",
    "3. light conditions\n",
    "\n",
    "\n",
    "In order to do so several models will be used and all of the above input variables will be used regardless of the correlation previoulsy found. The dataset X will be use as train and Y as test. "
   ]
  },
  {
   "cell_type": "code",
   "execution_count": 38,
   "metadata": {},
   "outputs": [
    {
     "data": {
      "text/html": [
       "<div>\n",
       "<style scoped>\n",
       "    .dataframe tbody tr th:only-of-type {\n",
       "        vertical-align: middle;\n",
       "    }\n",
       "\n",
       "    .dataframe tbody tr th {\n",
       "        vertical-align: top;\n",
       "    }\n",
       "\n",
       "    .dataframe thead th {\n",
       "        text-align: right;\n",
       "    }\n",
       "</style>\n",
       "<table border=\"1\" class=\"dataframe\">\n",
       "  <thead>\n",
       "    <tr style=\"text-align: right;\">\n",
       "      <th></th>\n",
       "      <th>SEVERITYCODE</th>\n",
       "      <th>Dangerous Road Cond</th>\n",
       "      <th>Normal Road Cond</th>\n",
       "      <th>Unknown Road Cond</th>\n",
       "      <th>Dark_NoLights</th>\n",
       "      <th>Dark_WithLights</th>\n",
       "      <th>Daylight</th>\n",
       "      <th>Dusk_Dawn</th>\n",
       "      <th>Unknown Light Cond</th>\n",
       "      <th>Clear Weather</th>\n",
       "      <th>Overcast_Fog_Cloudy</th>\n",
       "      <th>Raining</th>\n",
       "      <th>Snowing_Hail</th>\n",
       "      <th>Unknown_Other Weather Cond</th>\n",
       "    </tr>\n",
       "  </thead>\n",
       "  <tbody>\n",
       "    <tr>\n",
       "      <th>3542</th>\n",
       "      <td>2</td>\n",
       "      <td>1</td>\n",
       "      <td>0</td>\n",
       "      <td>0</td>\n",
       "      <td>0</td>\n",
       "      <td>0</td>\n",
       "      <td>0</td>\n",
       "      <td>1</td>\n",
       "      <td>0</td>\n",
       "      <td>0</td>\n",
       "      <td>0</td>\n",
       "      <td>1</td>\n",
       "      <td>0</td>\n",
       "      <td>0</td>\n",
       "    </tr>\n",
       "    <tr>\n",
       "      <th>55833</th>\n",
       "      <td>1</td>\n",
       "      <td>0</td>\n",
       "      <td>0</td>\n",
       "      <td>1</td>\n",
       "      <td>0</td>\n",
       "      <td>0</td>\n",
       "      <td>1</td>\n",
       "      <td>0</td>\n",
       "      <td>0</td>\n",
       "      <td>0</td>\n",
       "      <td>0</td>\n",
       "      <td>0</td>\n",
       "      <td>0</td>\n",
       "      <td>1</td>\n",
       "    </tr>\n",
       "    <tr>\n",
       "      <th>28897</th>\n",
       "      <td>1</td>\n",
       "      <td>0</td>\n",
       "      <td>1</td>\n",
       "      <td>0</td>\n",
       "      <td>0</td>\n",
       "      <td>0</td>\n",
       "      <td>1</td>\n",
       "      <td>0</td>\n",
       "      <td>0</td>\n",
       "      <td>1</td>\n",
       "      <td>0</td>\n",
       "      <td>0</td>\n",
       "      <td>0</td>\n",
       "      <td>0</td>\n",
       "    </tr>\n",
       "    <tr>\n",
       "      <th>116121</th>\n",
       "      <td>1</td>\n",
       "      <td>1</td>\n",
       "      <td>0</td>\n",
       "      <td>0</td>\n",
       "      <td>0</td>\n",
       "      <td>0</td>\n",
       "      <td>1</td>\n",
       "      <td>0</td>\n",
       "      <td>0</td>\n",
       "      <td>1</td>\n",
       "      <td>0</td>\n",
       "      <td>0</td>\n",
       "      <td>0</td>\n",
       "      <td>0</td>\n",
       "    </tr>\n",
       "    <tr>\n",
       "      <th>150123</th>\n",
       "      <td>2</td>\n",
       "      <td>1</td>\n",
       "      <td>0</td>\n",
       "      <td>0</td>\n",
       "      <td>0</td>\n",
       "      <td>1</td>\n",
       "      <td>0</td>\n",
       "      <td>0</td>\n",
       "      <td>0</td>\n",
       "      <td>1</td>\n",
       "      <td>0</td>\n",
       "      <td>0</td>\n",
       "      <td>0</td>\n",
       "      <td>0</td>\n",
       "    </tr>\n",
       "  </tbody>\n",
       "</table>\n",
       "</div>"
      ],
      "text/plain": [
       "        SEVERITYCODE  Dangerous Road Cond  Normal Road Cond  \\\n",
       "3542               2                    1                 0   \n",
       "55833              1                    0                 0   \n",
       "28897              1                    0                 1   \n",
       "116121             1                    1                 0   \n",
       "150123             2                    1                 0   \n",
       "\n",
       "        Unknown Road Cond  Dark_NoLights  Dark_WithLights  Daylight  \\\n",
       "3542                    0              0                0         0   \n",
       "55833                   1              0                0         1   \n",
       "28897                   0              0                0         1   \n",
       "116121                  0              0                0         1   \n",
       "150123                  0              0                1         0   \n",
       "\n",
       "        Dusk_Dawn  Unknown Light Cond  Clear Weather  Overcast_Fog_Cloudy  \\\n",
       "3542            1                   0              0                    0   \n",
       "55833           0                   0              0                    0   \n",
       "28897           0                   0              1                    0   \n",
       "116121          0                   0              1                    0   \n",
       "150123          0                   0              1                    0   \n",
       "\n",
       "        Raining  Snowing_Hail  Unknown_Other Weather Cond  \n",
       "3542          1             0                           0  \n",
       "55833         0             0                           1  \n",
       "28897         0             0                           0  \n",
       "116121        0             0                           0  \n",
       "150123        0             0                           0  "
      ]
     },
     "execution_count": 38,
     "metadata": {},
     "output_type": "execute_result"
    }
   ],
   "source": [
    "#creation a new dataframe   \n",
    "df_BBB.drop(['SPEEDING', 'UNDERINFL'], axis=1, inplace=True)\n",
    "df_BBB.head()"
   ]
  },
  {
   "cell_type": "code",
   "execution_count": 39,
   "metadata": {},
   "outputs": [],
   "source": [
    "#split of dataset  \n",
    "train_set, test_set = train_test_split(df_BBB, test_size = 0.2, random_state = seed)"
   ]
  },
  {
   "cell_type": "code",
   "execution_count": 40,
   "metadata": {},
   "outputs": [],
   "source": [
    "Xdf_BBB_train = train_set.drop(['SEVERITYCODE'], axis = 'columns')\n",
    "Ydf_BBB_train = train_set['SEVERITYCODE']\n",
    "\n",
    "Xdf_BBB_test = test_set.drop(['SEVERITYCODE'], axis = 1)\n",
    "Ydf_BBB_test = test_set['SEVERITYCODE']"
   ]
  },
  {
   "cell_type": "code",
   "execution_count": 41,
   "metadata": {},
   "outputs": [
    {
     "name": "stderr",
     "output_type": "stream",
     "text": [
      "C:\\Users\\adelaide.leitao\\AppData\\Local\\Continuum\\anaconda3\\lib\\site-packages\\sklearn\\preprocessing\\data.py:323: DataConversionWarning: Data with input dtype uint8 were all converted to float64 by MinMaxScaler.\n",
      "  return self.partial_fit(X, y)\n"
     ]
    }
   ],
   "source": [
    "scaler = MinMaxScaler()\n",
    "\n",
    "features_names = Xdf_BBB_train.columns\n",
    "\n",
    "Xdf_BBB_train = scaler.fit_transform(Xdf_BBB_train)\n",
    "Xdf_BBB_train = pd.DataFrame(Xdf_BBB_train, columns = features_names)\n",
    "\n",
    "Xdf_BBB_test = scaler.transform(Xdf_BBB_test)\n",
    "Xdf_BBB_test = pd.DataFrame(Xdf_BBB_test, columns = features_names)"
   ]
  },
  {
   "cell_type": "markdown",
   "metadata": {},
   "source": [
    "**Logistic Regression**\n",
    "\n",
    "Logistic Regression is a classifier that estimates discrete values based on a set of independent variables; it predicts the probability of occurrence of an event by fitting data to a logistic function and the obtained values are situated within 0 and 1 since the model predicts a probability."
   ]
  },
  {
   "cell_type": "code",
   "execution_count": 42,
   "metadata": {},
   "outputs": [
    {
     "data": {
      "text/plain": [
       "LogisticRegression(C=0.01, class_weight=None, dual=False, fit_intercept=True,\n",
       "          intercept_scaling=1, max_iter=500, multi_class='warn',\n",
       "          n_jobs=None, penalty='l2', random_state=42, solver='lbfgs',\n",
       "          tol=0.0001, verbose=0, warm_start=False)"
      ]
     },
     "execution_count": 42,
     "metadata": {},
     "output_type": "execute_result"
    }
   ],
   "source": [
    "#training the model\n",
    "LogRegModel = LogisticRegression(C=0.01, random_state = seed, solver = 'lbfgs', max_iter = 500)\n",
    "LogRegModel.fit(Xdf_BBB_train, Ydf_BBB_train)\n",
    "LogRegModel"
   ]
  },
  {
   "cell_type": "code",
   "execution_count": 45,
   "metadata": {},
   "outputs": [
    {
     "name": "stdout",
     "output_type": "stream",
     "text": [
      "----- Logistic Regression F1 Score  --------------\n",
      "0.5386172957741423\n",
      "----- Logistic Regression Acurracy  --------------\n",
      "0.563593421973408\n",
      "----- Classification Report --------------\n",
      "              precision    recall  f1-score   support\n",
      "\n",
      "           1       0.63      0.33      0.43     11547\n",
      "           2       0.54      0.80      0.64     11317\n",
      "\n",
      "   micro avg       0.56      0.56      0.56     22864\n",
      "   macro avg       0.58      0.57      0.54     22864\n",
      "weighted avg       0.58      0.56      0.54     22864\n",
      "\n",
      "----- Confusion Matrix Results --------------\n",
      "[[3837 7710]\n",
      " [2268 9049]]\n",
      "---- Visual Confusion Matrix ---------------------\n"
     ]
    },
    {
     "data": {
      "image/png": "[encoded data removed]",
      "text/plain": [
       "<Figure size 288x288 with 2 Axes>"
      ]
     },
     "metadata": {},
     "output_type": "display_data"
    }
   ],
   "source": [
    "#making predictions\n",
    "predicted = LogRegModel.predict(Xdf_BBB_test)\n",
    "\n",
    "#printing results\n",
    "LogRegModel_f1 = f1_score(Ydf_BBB_test, predicted, average='weighted')\n",
    "LogRegModel_acc = accuracy_score(Ydf_BBB_test, predicted)\n",
    "LogRegModel_cm = confusion_matrix(Ydf_BBB_test, predicted)\n",
    "\n",
    "print('----- Logistic Regression F1 Score  --------------'); print(LogRegModel_f1)\n",
    "\n",
    "print('----- Logistic Regression Acurracy  --------------'); print(LogRegModel_acc)\n",
    "\n",
    "Report = (classification_report(Ydf_BBB_test, predicted))\n",
    "print('----- Classification Report --------------'); print(Report)\n",
    "\n",
    "print('----- Confusion Matrix Results --------------'); print(LogRegModel_cm) \n",
    "\n",
    "print('---- Visual Confusion Matrix ---------------------')\n",
    "with plt.style.context('seaborn'): \n",
    "    plt.figure(figsize=(4, 4))\n",
    "    group_names = ['True Negatives','False Positives','False Negatives','True Positives']\n",
    "    group_counts = [\"{0:0.0f}\".format(value) for value in\n",
    "                LogRegModel_cm.flatten()]\n",
    "    group_percentages = [\"{0:.1%}\".format(value) for value in\n",
    "                     LogRegModel_cm.flatten()/np.sum(LogRegModel_cm)]\n",
    "    labels = [f\"{v1}\\n{v2}\\n{v3}\" for v1, v2, v3 in\n",
    "          zip(group_names,group_counts,group_percentages)]\n",
    "    labels = np.asarray(labels).reshape(2,2)\n",
    "    sns.set(font_scale=1)\n",
    "    sns.heatmap(LogRegModel_cm, annot=labels, square=True, fmt='',annot_kws={\"size\":10},linewidth=3, cmap='PiYG')\n",
    "    plt.xlabel('Predicted'); plt.ylabel('True')\n",
    "    plt.show()\n",
    "    \n",
    "    "
   ]
  },
  {
   "cell_type": "markdown",
   "metadata": {},
   "source": [
    "**Decision Tree**\n",
    "\n",
    "Decision Tree is a  tree-like model that splits the sample into two or more homogenous sets (leaves) based on the most significant differentiators in the input variables. To choose a differentiator (predictor) the algorithm considers all features and makes a  binary split on them (for categorical data, split by category; for continuous, picks a cut-off threshold). It will then choose the one with the least cost (eg, highest accuracy), and repeats recursively  until it successfully splits the data in all leaves (or reaches the maximum depth). Information gain for a decision tree classifier can be calculated either using the Gini Index measure or the Entropy measure, whichever gives a greater gain."
   ]
  },
  {
   "cell_type": "code",
   "execution_count": 46,
   "metadata": {},
   "outputs": [
    {
     "data": {
      "text/plain": [
       "DecisionTreeClassifier(class_weight=None, criterion='entropy', max_depth=5,\n",
       "            max_features=None, max_leaf_nodes=None,\n",
       "            min_impurity_decrease=0.0, min_impurity_split=None,\n",
       "            min_samples_leaf=1, min_samples_split=2,\n",
       "            min_weight_fraction_leaf=0.0, presort=False, random_state=None,\n",
       "            splitter='best')"
      ]
     },
     "execution_count": 46,
     "metadata": {},
     "output_type": "execute_result"
    }
   ],
   "source": [
    "#training the model\n",
    "DecTreeModel = DecisionTreeClassifier(criterion='entropy', max_depth=5)\n",
    "DecTreeModel.fit(Xdf_BBB_train, Ydf_BBB_train)\n",
    "DecTreeModel"
   ]
  },
  {
   "cell_type": "code",
   "execution_count": 47,
   "metadata": {},
   "outputs": [
    {
     "name": "stdout",
     "output_type": "stream",
     "text": [
      "----- Decision Tree F1 Score  --------------\n",
      "0.5456403589310034\n",
      "----- Decision Tree Acurracy  --------------\n",
      "0.5616252624212736\n",
      "----- Classification Report --------------\n",
      "              precision    recall  f1-score   support\n",
      "\n",
      "           1       0.61      0.38      0.46     11547\n",
      "           2       0.54      0.75      0.63     11317\n",
      "\n",
      "   micro avg       0.56      0.56      0.56     22864\n",
      "   macro avg       0.57      0.56      0.55     22864\n",
      "weighted avg       0.57      0.56      0.55     22864\n",
      "\n",
      "----- Confusion Matrix Results --------------\n",
      "[[4331 7216]\n",
      " [2807 8510]]\n",
      "---- Visual Confusion Matrix ---------------------\n"
     ]
    },
    {
     "data": {
      "image/png": "[encoded data removed]",
      "text/plain": [
       "<Figure size 288x288 with 2 Axes>"
      ]
     },
     "metadata": {},
     "output_type": "display_data"
    }
   ],
   "source": [
    "#making predictions\n",
    "predicted = DecTreeModel.predict(Xdf_BBB_test)\n",
    "\n",
    "#printing results\n",
    "DecTreeModel_f1 = f1_score(Ydf_BBB_test, predicted, average='weighted')\n",
    "DecTreeModel_acc = accuracy_score(Ydf_BBB_test, predicted)\n",
    "DecTreeModel_cm = confusion_matrix(Ydf_BBB_test, predicted)\n",
    "\n",
    "print('----- Decision Tree F1 Score  --------------'); print(DecTreeModel_f1)\n",
    "\n",
    "print('----- Decision Tree Acurracy  --------------'); print(DecTreeModel_acc)\n",
    "\n",
    "Report = (classification_report(Ydf_BBB_test, predicted))\n",
    "print('----- Classification Report --------------'); print(Report)\n",
    "\n",
    "print('----- Confusion Matrix Results --------------'); print(DecTreeModel_cm) \n",
    "\n",
    "print('---- Visual Confusion Matrix ---------------------')\n",
    "with plt.style.context('seaborn'): \n",
    "    plt.figure(figsize=(4, 4))\n",
    "    group_names = ['True Negatives','False Positives','False Negatives','True Positives']\n",
    "    group_counts = [\"{0:0.0f}\".format(value) for value in\n",
    "                DecTreeModel_cm.flatten()]\n",
    "    group_percentages = [\"{0:.1%}\".format(value) for value in\n",
    "                     DecTreeModel_cm.flatten()/np.sum(DecTreeModel_cm)]\n",
    "    labels = [f\"{v1}\\n{v2}\\n{v3}\" for v1, v2, v3 in\n",
    "          zip(group_names,group_counts,group_percentages)]\n",
    "    labels = np.asarray(labels).reshape(2,2)\n",
    "    sns.set(font_scale=1)\n",
    "    sns.heatmap(DecTreeModel_cm, annot=labels, square=True, fmt='',annot_kws={\"size\":10},linewidth=3, cmap='PiYG')\n",
    "    plt.xlabel('Predicted'); plt.ylabel('True')\n",
    "    plt.show()\n",
    "    "
   ]
  },
  {
   "cell_type": "markdown",
   "metadata": {},
   "source": [
    "**Random Forest** \n",
    "\n",
    "Random Forest is an ensemble algorithm (eg, it combines more than one algorithms of same or different kind) for classifying objects with a tree-based learning algorithm. This is the same to say that Random Forest is a set of decision trees from randomly selected subset of training set; it aggregates the votes from different decision trees to decide the final class of the test object. The model requires an input to specify a measure that will be  used for classification, along with a value for the number of estimators (number of decision trees)."
   ]
  },
  {
   "cell_type": "code",
   "execution_count": 48,
   "metadata": {},
   "outputs": [
    {
     "data": {
      "text/plain": [
       "RandomForestClassifier(bootstrap=True, class_weight=None, criterion='gini',\n",
       "            max_depth=None, max_features='auto', max_leaf_nodes=None,\n",
       "            min_impurity_decrease=0.0, min_impurity_split=None,\n",
       "            min_samples_leaf=1, min_samples_split=2,\n",
       "            min_weight_fraction_leaf=0.0, n_estimators=50, n_jobs=None,\n",
       "            oob_score=False, random_state=None, verbose=0,\n",
       "            warm_start=False)"
      ]
     },
     "execution_count": 48,
     "metadata": {},
     "output_type": "execute_result"
    }
   ],
   "source": [
    "#training the model\n",
    "RandomForestModel = RandomForestClassifier(n_estimators=50)\n",
    "RandomForestModel.fit(Xdf_BBB_train, Ydf_BBB_train)"
   ]
  },
  {
   "cell_type": "code",
   "execution_count": 49,
   "metadata": {},
   "outputs": [
    {
     "name": "stdout",
     "output_type": "stream",
     "text": [
      "----- Random Forest F1 Score  --------------\n",
      "0.5350844641517183\n",
      "----- Random Forest Acurracy  --------------\n",
      "0.5628061581525542\n",
      "----- Classification Report --------------\n",
      "              precision    recall  f1-score   support\n",
      "\n",
      "           1       0.63      0.32      0.43     11547\n",
      "           2       0.54      0.81      0.65     11317\n",
      "\n",
      "   micro avg       0.56      0.56      0.56     22864\n",
      "   macro avg       0.59      0.57      0.54     22864\n",
      "weighted avg       0.59      0.56      0.54     22864\n",
      "\n",
      "----- Confusion Matrix Results --------------\n",
      "[[3696 7851]\n",
      " [2145 9172]]\n",
      "---- Visual Confusion Matrix ---------------------\n"
     ]
    },
    {
     "data": {
      "image/png": "[encoded data removed]",
      "text/plain": [
       "<Figure size 288x288 with 2 Axes>"
      ]
     },
     "metadata": {},
     "output_type": "display_data"
    }
   ],
   "source": [
    "#making prediction \n",
    "predicted = RandomForestModel.predict(Xdf_BBB_test)\n",
    "\n",
    "#printing results\n",
    "RandomForestModel_f1 = f1_score(Ydf_BBB_test, predicted, average='weighted')\n",
    "RandomForestModel_acc = accuracy_score(Ydf_BBB_test, predicted)\n",
    "RandomForestModel_cm = confusion_matrix(Ydf_BBB_test, predicted)\n",
    "\n",
    "print('----- Random Forest F1 Score  --------------'); print(RandomForestModel_f1)\n",
    "\n",
    "print('----- Random Forest Acurracy  --------------'); print(RandomForestModel_acc)\n",
    "\n",
    "Report = (classification_report(Ydf_BBB_test, predicted))\n",
    "print('----- Classification Report --------------'); print(Report)\n",
    "\n",
    "print('----- Confusion Matrix Results --------------'); print(RandomForestModel_cm) \n",
    "\n",
    "print('---- Visual Confusion Matrix ---------------------')\n",
    "with plt.style.context('seaborn'): \n",
    "    plt.figure(figsize=(4, 4))\n",
    "    group_names = ['True Negatives','False Positives','False Negatives','True Positives']\n",
    "    group_counts = [\"{0:0.0f}\".format(value) for value in\n",
    "                RandomForestModel_cm.flatten()]\n",
    "    group_percentages = [\"{0:.1%}\".format(value) for value in\n",
    "                     RandomForestModel_cm.flatten()/np.sum(RandomForestModel_cm)]\n",
    "    labels = [f\"{v1}\\n{v2}\\n{v3}\" for v1, v2, v3 in\n",
    "          zip(group_names,group_counts,group_percentages)]\n",
    "    labels = np.asarray(labels).reshape(2,2)\n",
    "    sns.set(font_scale=1)\n",
    "    sns.heatmap(RandomForestModel_cm, annot=labels, square=True, fmt='',annot_kws={\"size\":10},linewidth=3, cmap='PiYG')\n",
    "    plt.xlabel('Predicted'); plt.ylabel('True')\n",
    "    plt.show()\n",
    "    "
   ]
  },
  {
   "cell_type": "markdown",
   "metadata": {},
   "source": [
    "**KNN**\n",
    "\n",
    "The K-nearest neighbors (KNN) algorithm uses ‘similarity’ to predict the values of new datapoints which means that the new data point will be assigned a value based on how closely it matches the points in the training set. KNN is a non-parametric algorithm meaning that does not make any assumptions upon the available data. Is called a \"lazy learner\" algorithm because it does not learn from the training set immediately instead it stores the dataset and at the time of classification, it performs an action on the dataset. It is required to define the number of neighbors."
   ]
  },
  {
   "cell_type": "code",
   "execution_count": 50,
   "metadata": {},
   "outputs": [],
   "source": [
    "#training the model \n",
    "KNNModel = KNeighborsClassifier(n_neighbors = 4).fit(Xdf_BBB_train, Ydf_BBB_train)"
   ]
  },
  {
   "cell_type": "code",
   "execution_count": 51,
   "metadata": {},
   "outputs": [
    {
     "name": "stdout",
     "output_type": "stream",
     "text": [
      "----- KNN F1 Score  --------------\n",
      "0.5413264490005117\n",
      "----- KNN Acurracy  --------------\n",
      "0.5421623512946117\n",
      "----- Classification Report --------------\n",
      "              precision    recall  f1-score   support\n",
      "\n",
      "           1       0.55      0.50      0.52     11547\n",
      "           2       0.53      0.59      0.56     11317\n",
      "\n",
      "   micro avg       0.54      0.54      0.54     22864\n",
      "   macro avg       0.54      0.54      0.54     22864\n",
      "weighted avg       0.54      0.54      0.54     22864\n",
      "\n",
      "----- Confusion Matrix Results --------------\n",
      "[[5764 5783]\n",
      " [4685 6632]]\n",
      "---- Visual Confusion Matrix ---------------------\n"
     ]
    },
    {
     "data": {
      "image/png": "[encoded data removed]",
      "text/plain": [
       "<Figure size 288x288 with 2 Axes>"
      ]
     },
     "metadata": {},
     "output_type": "display_data"
    }
   ],
   "source": [
    "#making predictions  \n",
    "predicted = KNNModel.predict(Xdf_BBB_test)\n",
    "\n",
    "#printing results\n",
    "KNNModel_f1 = f1_score(Ydf_BBB_test, predicted, average='weighted')\n",
    "KNNModel_acc = accuracy_score(Ydf_BBB_test, predicted)\n",
    "KNNModel_cm = confusion_matrix(Ydf_BBB_test, predicted)\n",
    "\n",
    "print('----- KNN F1 Score  --------------'); print(KNNModel_f1)\n",
    "\n",
    "print('----- KNN Acurracy  --------------'); print(KNNModel_acc)\n",
    "\n",
    "Report = (classification_report(Ydf_BBB_test, predicted))\n",
    "print('----- Classification Report --------------'); print(Report)\n",
    "\n",
    "\n",
    "print('----- Confusion Matrix Results --------------'); print(KNNModel_cm) \n",
    "\n",
    "print('---- Visual Confusion Matrix ---------------------')\n",
    "with plt.style.context('seaborn'): \n",
    "    plt.figure(figsize=(4, 4))\n",
    "    group_names = ['True Negatives','False Positives','False Negatives','True Positives']\n",
    "    group_counts = [\"{0:0.0f}\".format(value) for value in\n",
    "                KNNModel_cm.flatten()]\n",
    "    group_percentages = [\"{0:.1%}\".format(value) for value in\n",
    "                     KNNModel_cm.flatten()/np.sum(KNNModel_cm)]\n",
    "    labels = [f\"{v1}\\n{v2}\\n{v3}\" for v1, v2, v3 in\n",
    "          zip(group_names,group_counts,group_percentages)]\n",
    "    labels = np.asarray(labels).reshape(2,2)\n",
    "    sns.set(font_scale=1)\n",
    "    sns.heatmap(KNNModel_cm, annot=labels, square=True, fmt='',annot_kws={\"size\":10},linewidth=3, cmap='PiYG')\n",
    "    plt.xlabel('Predicted'); plt.ylabel('True')\n",
    "    plt.show()\n",
    "    \n"
   ]
  },
  {
   "cell_type": "markdown",
   "metadata": {},
   "source": [
    "**SVM**\n",
    "\n",
    "Support Vector Machine(SVM) often offers higher accuracy when compared to other classifiers such as Logistic Regression and  Decision Trees. It is an exciting algorithm and its classifier separates data points using a hyperplane with the largest amount of margin and this is why SVM classifier is also known as a \"discriminative classifier\". SVM finds an optimal hyperplane which helps in classifying new data points and is appreciatted also for its kernel capabilities to handle nonlinear input spaces. "
   ]
  },
  {
   "cell_type": "code",
   "execution_count": 52,
   "metadata": {},
   "outputs": [
    {
     "data": {
      "text/plain": [
       "SVC(C=1.0, cache_size=200, class_weight=None, coef0=0.0,\n",
       "  decision_function_shape='ovr', degree=3, gamma='auto_deprecated',\n",
       "  kernel='linear', max_iter=-1, probability=False, random_state=None,\n",
       "  shrinking=True, tol=0.001, verbose=False)"
      ]
     },
     "execution_count": 52,
     "metadata": {},
     "output_type": "execute_result"
    }
   ],
   "source": [
    "#training the model \n",
    "SVMModel = SVC(kernel='linear')\n",
    "SVMModel.fit(Xdf_BBB_train, Ydf_BBB_train)"
   ]
  },
  {
   "cell_type": "code",
   "execution_count": 53,
   "metadata": {},
   "outputs": [
    {
     "name": "stdout",
     "output_type": "stream",
     "text": [
      "----- SVM F1 Score  --------------\n",
      "0.46662386430508745\n",
      "----- SVM Acurracy  --------------\n",
      "0.5546710986703989\n",
      "----- Classification Report --------------\n",
      "              precision    recall  f1-score   support\n",
      "\n",
      "           1       0.82      0.15      0.26     11547\n",
      "           2       0.53      0.97      0.68     11317\n",
      "\n",
      "   micro avg       0.55      0.55      0.55     22864\n",
      "   macro avg       0.67      0.56      0.47     22864\n",
      "weighted avg       0.68      0.55      0.47     22864\n",
      "\n",
      "----- Confusion Matrix Results --------------\n",
      "[[ 1744  9803]\n",
      " [  379 10938]]\n",
      "---- Visual Confusion Matrix ---------------------\n"
     ]
    },
    {
     "data": {
      "image/png": "[encoded data removed]",
      "text/plain": [
       "<Figure size 288x288 with 2 Axes>"
      ]
     },
     "metadata": {},
     "output_type": "display_data"
    }
   ],
   "source": [
    "#making predictions  \n",
    "predicted = SVMModel.predict(Xdf_BBB_test)\n",
    "\n",
    "#printing results\n",
    "SVMModel_f1 = f1_score(Ydf_BBB_test, predicted, average='weighted')\n",
    "SVMModel_acc = accuracy_score(Ydf_BBB_test, predicted)\n",
    "SVMModel_cm = confusion_matrix(Ydf_BBB_test, predicted)\n",
    "\n",
    "\n",
    "print('----- SVM F1 Score  --------------'); print(SVMModel_f1)\n",
    "\n",
    "print('----- SVM Acurracy  --------------'); print(SVMModel_acc)\n",
    "\n",
    "Report = (classification_report(Ydf_BBB_test, predicted))\n",
    "print('----- Classification Report --------------'); print(Report)\n",
    "\n",
    "\n",
    "print('----- Confusion Matrix Results --------------'); print(SVMModel_cm) \n",
    "\n",
    "print('---- Visual Confusion Matrix ---------------------')\n",
    "with plt.style.context('seaborn'): \n",
    "    plt.figure(figsize=(4, 4))\n",
    "    group_names = ['True Negatives','False Positives','False Negatives','True Positives']\n",
    "    group_counts = [\"{0:0.0f}\".format(value) for value in\n",
    "                SVMModel_cm.flatten()]\n",
    "    group_percentages = [\"{0:.1%}\".format(value) for value in\n",
    "                     SVMModel_cm.flatten()/np.sum(SVMModel_cm)]\n",
    "    labels = [f\"{v1}\\n{v2}\\n{v3}\" for v1, v2, v3 in\n",
    "          zip(group_names,group_counts,group_percentages)]\n",
    "    labels = np.asarray(labels).reshape(2,2)\n",
    "    sns.set(font_scale=1)\n",
    "    sns.heatmap(SVMModel_cm, annot=labels, square=True, fmt='',annot_kws={\"size\":10},linewidth=3, cmap='PiYG')\n",
    "    plt.xlabel('Predicted'); plt.ylabel('True')\n",
    "    plt.show()\n",
    "    \n"
   ]
  },
  {
   "cell_type": "markdown",
   "metadata": {},
   "source": [
    "**MLP**\n",
    "\n",
    "MLP stands for Multi-Layer Perceptron which in the name itself connects to a Neural Network, meaning it relies on an underlying Neural Network to perform the task of classification. A MLP classifier is a logistic regressor where instead of feeding the input to the logistic regression, the input is inserted to a intermediate layer, called the hidden layer, that has a nonlinear activation function."
   ]
  },
  {
   "cell_type": "code",
   "execution_count": 54,
   "metadata": {},
   "outputs": [
    {
     "data": {
      "text/plain": [
       "MLPClassifier(activation='relu', alpha=0.0001, batch_size='auto', beta_1=0.9,\n",
       "       beta_2=0.999, early_stopping=False, epsilon=1e-08,\n",
       "       hidden_layer_sizes=(150, 100, 50), learning_rate='constant',\n",
       "       learning_rate_init=0.001, max_iter=300, momentum=0.9,\n",
       "       n_iter_no_change=10, nesterovs_momentum=True, power_t=0.5,\n",
       "       random_state=1, shuffle=True, solver='adam', tol=0.0001,\n",
       "       validation_fraction=0.1, verbose=False, warm_start=False)"
      ]
     },
     "execution_count": 54,
     "metadata": {},
     "output_type": "execute_result"
    }
   ],
   "source": [
    "#training the model\n",
    "MLPModel = MLPClassifier(hidden_layer_sizes=(150,100,50), solver ='adam', random_state = 1, max_iter = 300, activation = 'relu')\n",
    "MLPModel.fit(Xdf_BBB_train, Ydf_BBB_train)"
   ]
  },
  {
   "cell_type": "code",
   "execution_count": 55,
   "metadata": {},
   "outputs": [
    {
     "name": "stdout",
     "output_type": "stream",
     "text": [
      "----- MLP F1 Score  --------------\n",
      "0.5414707344047488\n",
      "----- MLP Acurracy  --------------\n",
      "0.5645993701889434\n",
      "----- Classification Report --------------\n",
      "              precision    recall  f1-score   support\n",
      "\n",
      "           1       0.63      0.34      0.44     11547\n",
      "           2       0.54      0.79      0.64     11317\n",
      "\n",
      "   micro avg       0.56      0.56      0.56     22864\n",
      "   macro avg       0.58      0.57      0.54     22864\n",
      "weighted avg       0.58      0.56      0.54     22864\n",
      "\n",
      "----- Confusion Matrix Results --------------\n",
      "[[3941 7606]\n",
      " [2349 8968]]\n",
      "---- Visual Confusion Matrix ---------------------\n"
     ]
    },
    {
     "data": {
      "image/png": "[encoded data removed]",
      "text/plain": [
       "<Figure size 288x288 with 2 Axes>"
      ]
     },
     "metadata": {},
     "output_type": "display_data"
    }
   ],
   "source": [
    "#making predictions \n",
    "predicted  = MLPModel.predict(Xdf_BBB_test)\n",
    "\n",
    "\n",
    "#printing results\n",
    "MLPModel_f1 = f1_score(Ydf_BBB_test, predicted, average='weighted')\n",
    "MLPModel_acc = accuracy_score(Ydf_BBB_test, predicted)\n",
    "MLPModel_cm = confusion_matrix(Ydf_BBB_test, predicted)\n",
    "\n",
    "print('----- MLP F1 Score  --------------'); print(MLPModel_f1)\n",
    "\n",
    "print('----- MLP Acurracy  --------------'); print(MLPModel_acc)\n",
    "\n",
    "Report = (classification_report(Ydf_BBB_test, predicted))\n",
    "print('----- Classification Report --------------'); print(Report)\n",
    "\n",
    "\n",
    "print('----- Confusion Matrix Results --------------'); print(MLPModel_cm) \n",
    "\n",
    "print('---- Visual Confusion Matrix ---------------------')\n",
    "with plt.style.context('seaborn'): \n",
    "    plt.figure(figsize=(4, 4))\n",
    "    group_names = ['True Negatives','False Positives','False Negatives','True Positives']\n",
    "    group_counts = [\"{0:0.0f}\".format(value) for value in\n",
    "                MLPModel_cm.flatten()]\n",
    "    group_percentages = [\"{0:.1%}\".format(value) for value in\n",
    "                     MLPModel_cm.flatten()/np.sum(MLPModel_cm)]\n",
    "    labels = [f\"{v1}\\n{v2}\\n{v3}\" for v1, v2, v3 in\n",
    "          zip(group_names,group_counts,group_percentages)]\n",
    "    labels = np.asarray(labels).reshape(2,2)\n",
    "    sns.set(font_scale=1)\n",
    "    sns.heatmap(MLPModel_cm, annot=labels, square=True, fmt='',annot_kws={\"size\":10},linewidth=3, cmap='PiYG')\n",
    "    plt.xlabel('Predicted'); plt.ylabel('True')\n",
    "    plt.show()\n",
    "    \n",
    "\n",
    "\n"
   ]
  },
  {
   "cell_type": "markdown",
   "metadata": {},
   "source": [
    "## PART V\n",
    "### EVALUATION\n",
    "The dataset prepared for the study was subject to six models;\n",
    "* Logistic Regression\n",
    "* Decision Tree\n",
    "* Random Forest \n",
    "* KNN\n",
    "* SVM \n",
    "* ML\n",
    "\n",
    "The main  metrics used to understandand and evaluate the results of the  models are\n",
    "* **F1 Score** which is the harmonic meean between precision and recall; it reanges between o and 1 - the greater the F1 Score the the better is the performance of the model\n",
    "\n",
    "* **Accuracy**, which is the ratio between correct predictions divided by the total number of input sample, very useful when equal number of samples belonging to each class.\n",
    "\n",
    "The individual classification reports printed in the previous section also provided:\n",
    "* True Positive Rate (Sensitivity/Recall): defined as TP/(FN+TP) and corresponding to the proportion of positive data points that are correctly considered as positive, with respect to all positive data points\n",
    "* False Positive Rate (Specificity): defined as FP/(FP+TN) and corresponding to the proportion of negative data points that are mistakenly considered as positive, with respect to all negative data points\n"
   ]
  },
  {
   "cell_type": "code",
   "execution_count": 56,
   "metadata": {},
   "outputs": [
    {
     "data": {
      "text/html": [
       "<div>\n",
       "<style scoped>\n",
       "    .dataframe tbody tr th:only-of-type {\n",
       "        vertical-align: middle;\n",
       "    }\n",
       "\n",
       "    .dataframe tbody tr th {\n",
       "        vertical-align: top;\n",
       "    }\n",
       "\n",
       "    .dataframe thead th {\n",
       "        text-align: right;\n",
       "    }\n",
       "</style>\n",
       "<table border=\"1\" class=\"dataframe\">\n",
       "  <thead>\n",
       "    <tr style=\"text-align: right;\">\n",
       "      <th></th>\n",
       "      <th>Model</th>\n",
       "      <th>F1 Score</th>\n",
       "      <th>Accuracy</th>\n",
       "    </tr>\n",
       "  </thead>\n",
       "  <tbody>\n",
       "    <tr>\n",
       "      <th>0</th>\n",
       "      <td>Log Regression</td>\n",
       "      <td>0.538617</td>\n",
       "      <td>0.563593</td>\n",
       "    </tr>\n",
       "    <tr>\n",
       "      <th>1</th>\n",
       "      <td>Decision Tree</td>\n",
       "      <td>0.545640</td>\n",
       "      <td>0.561625</td>\n",
       "    </tr>\n",
       "    <tr>\n",
       "      <th>2</th>\n",
       "      <td>Random Forest</td>\n",
       "      <td>0.535084</td>\n",
       "      <td>0.562806</td>\n",
       "    </tr>\n",
       "    <tr>\n",
       "      <th>3</th>\n",
       "      <td>KNN</td>\n",
       "      <td>0.541326</td>\n",
       "      <td>0.542162</td>\n",
       "    </tr>\n",
       "    <tr>\n",
       "      <th>4</th>\n",
       "      <td>SVM</td>\n",
       "      <td>0.466624</td>\n",
       "      <td>0.554671</td>\n",
       "    </tr>\n",
       "    <tr>\n",
       "      <th>5</th>\n",
       "      <td>ML Percepton</td>\n",
       "      <td>0.541471</td>\n",
       "      <td>0.564599</td>\n",
       "    </tr>\n",
       "  </tbody>\n",
       "</table>\n",
       "</div>"
      ],
      "text/plain": [
       "            Model  F1 Score  Accuracy\n",
       "0  Log Regression  0.538617  0.563593\n",
       "1   Decision Tree  0.545640  0.561625\n",
       "2   Random Forest  0.535084  0.562806\n",
       "3             KNN  0.541326  0.542162\n",
       "4             SVM  0.466624  0.554671\n",
       "5    ML Percepton  0.541471  0.564599"
      ]
     },
     "execution_count": 56,
     "metadata": {},
     "output_type": "execute_result"
    }
   ],
   "source": [
    "results = {\n",
    "    \"Model\": [\"Log Regression\", \"Decision Tree\", \"Random Forest\", \"KNN\",  \"SVM\", \"ML Percepton\"],\n",
    "    \"F1 Score\": [LogRegModel_f1, DecTreeModel_f1, RandomForestModel_f1, KNNModel_f1, SVMModel_f1, MLPModel_f1],\n",
    "    \"Accuracy\": [LogRegModel_acc, DecTreeModel_acc, RandomForestModel_acc, KNNModel_acc, SVMModel_acc, MLPModel_acc],\n",
    "}\n",
    "\n",
    "results = pd.DataFrame(results)\n",
    "results\n"
   ]
  },
  {
   "cell_type": "markdown",
   "metadata": {},
   "source": [
    "Metrics above show that results from the several models are very much similar.The highest F1 Score is produced by Decision Tree however, to keep evaluation concepts as simples as possible, this work considersthe **best accuracy** which is  delivered  by **MLP** and with almost the same numbers as **Logistic Regression**. \n",
    "\n",
    "Regarding **MLP**, there is not method in Scikit-Learn to obtain MLP feature importance and this has been the \"classic problem\" of interpreting how ML models weights contribute towards classification decisions. Some Python libraries are aiming to address this problem such as LIME, ELI5 and Yellowbrick, however there is no simple way for diagnosing and understanding feature importance of a MLP classifier. \n",
    "\n",
    "In that line and since the accuracy delivered by the MLP classifier is basically the same as the accuracy delivered by **Logistic Regression**, the latter will be the base for explaining results and evaluation.  "
   ]
  },
  {
   "cell_type": "code",
   "execution_count": 57,
   "metadata": {},
   "outputs": [
    {
     "name": "stdout",
     "output_type": "stream",
     "text": [
      "----- Logistic Regression Acurracy / Score  --------------\n",
      "0.563593421973408\n"
     ]
    }
   ],
   "source": [
    "print('----- Logistic Regression Acurracy / Score  --------------'); print(LogRegModel_acc)\n"
   ]
  },
  {
   "cell_type": "code",
   "execution_count": 58,
   "metadata": {},
   "outputs": [
    {
     "data": {
      "text/plain": [
       "array([-0.65605266])"
      ]
     },
     "execution_count": 58,
     "metadata": {},
     "output_type": "execute_result"
    }
   ],
   "source": [
    "LogRegModel.intercept_"
   ]
  },
  {
   "cell_type": "code",
   "execution_count": 59,
   "metadata": {},
   "outputs": [
    {
     "data": {
      "text/plain": [
       "array([[ 0.34355206,  0.31880304, -0.53629872, -0.08974724,  0.17751412,\n",
       "         0.34181174,  0.30122059, -0.77444801,  0.15563897,  0.12777603,\n",
       "         0.23344405, -0.14109839, -0.47320076]])"
      ]
     },
     "execution_count": 59,
     "metadata": {},
     "output_type": "execute_result"
    }
   ],
   "source": [
    "LogRegModel.coef_"
   ]
  },
  {
   "cell_type": "code",
   "execution_count": 62,
   "metadata": {},
   "outputs": [
    {
     "data": {
      "text/html": [
       "<div>\n",
       "<style scoped>\n",
       "    .dataframe tbody tr th:only-of-type {\n",
       "        vertical-align: middle;\n",
       "    }\n",
       "\n",
       "    .dataframe tbody tr th {\n",
       "        vertical-align: top;\n",
       "    }\n",
       "\n",
       "    .dataframe thead th {\n",
       "        text-align: right;\n",
       "    }\n",
       "</style>\n",
       "<table border=\"1\" class=\"dataframe\">\n",
       "  <thead>\n",
       "    <tr style=\"text-align: right;\">\n",
       "      <th></th>\n",
       "      <th>Coef</th>\n",
       "    </tr>\n",
       "  </thead>\n",
       "  <tbody>\n",
       "    <tr>\n",
       "      <th>Dangerous Road Cond</th>\n",
       "      <td>0.343552</td>\n",
       "    </tr>\n",
       "    <tr>\n",
       "      <th>Daylight</th>\n",
       "      <td>0.341812</td>\n",
       "    </tr>\n",
       "    <tr>\n",
       "      <th>Normal Road Cond</th>\n",
       "      <td>0.318803</td>\n",
       "    </tr>\n",
       "    <tr>\n",
       "      <th>Dusk_Dawn</th>\n",
       "      <td>0.301221</td>\n",
       "    </tr>\n",
       "    <tr>\n",
       "      <th>Raining</th>\n",
       "      <td>0.233444</td>\n",
       "    </tr>\n",
       "    <tr>\n",
       "      <th>Dark_WithLights</th>\n",
       "      <td>0.177514</td>\n",
       "    </tr>\n",
       "    <tr>\n",
       "      <th>Clear Weather</th>\n",
       "      <td>0.155639</td>\n",
       "    </tr>\n",
       "    <tr>\n",
       "      <th>Overcast_Fog_Cloudy</th>\n",
       "      <td>0.127776</td>\n",
       "    </tr>\n",
       "    <tr>\n",
       "      <th>Dark_NoLights</th>\n",
       "      <td>-0.089747</td>\n",
       "    </tr>\n",
       "    <tr>\n",
       "      <th>Snowing_Hail</th>\n",
       "      <td>-0.141098</td>\n",
       "    </tr>\n",
       "    <tr>\n",
       "      <th>Unknown_Other Weather Cond</th>\n",
       "      <td>-0.473201</td>\n",
       "    </tr>\n",
       "    <tr>\n",
       "      <th>Unknown Road Cond</th>\n",
       "      <td>-0.536299</td>\n",
       "    </tr>\n",
       "    <tr>\n",
       "      <th>Unknown Light Cond</th>\n",
       "      <td>-0.774448</td>\n",
       "    </tr>\n",
       "  </tbody>\n",
       "</table>\n",
       "</div>"
      ],
      "text/plain": [
       "                                Coef\n",
       "Dangerous Road Cond         0.343552\n",
       "Daylight                    0.341812\n",
       "Normal Road Cond            0.318803\n",
       "Dusk_Dawn                   0.301221\n",
       "Raining                     0.233444\n",
       "Dark_WithLights             0.177514\n",
       "Clear Weather               0.155639\n",
       "Overcast_Fog_Cloudy         0.127776\n",
       "Dark_NoLights              -0.089747\n",
       "Snowing_Hail               -0.141098\n",
       "Unknown_Other Weather Cond -0.473201\n",
       "Unknown Road Cond          -0.536299\n",
       "Unknown Light Cond         -0.774448"
      ]
     },
     "execution_count": 62,
     "metadata": {},
     "output_type": "execute_result"
    }
   ],
   "source": [
    "coefs = pd.DataFrame( LogRegModel.coef_[0] ,index = Xdf_BBB_train.columns, columns = ['Coef'])\n",
    "coefs.sort_values(by = 'Coef', ascending = False)\n"
   ]
  },
  {
   "cell_type": "markdown",
   "metadata": {},
   "source": [
    "A positive LR coef means that all else being equal, the presence of that feature is more likely to impact on severity than its non-presence.  If the sign is negative, the interpretation is that all else being equal, the presence of that feature is less likely to impact the severity then its non-presence."
   ]
  },
  {
   "cell_type": "code",
   "execution_count": 98,
   "metadata": {},
   "outputs": [
    {
     "data": {
      "image/png": "[encoded data removed]",
      "text/plain": [
       "<Figure size 432x288 with 1 Axes>"
      ]
     },
     "metadata": {
      "needs_background": "light"
     },
     "output_type": "display_data"
    }
   ],
   "source": [
    "barplot = coefs.plot(kind='bar', legend=True, fontsize=12)\n",
    "plt.show()\n",
    "\n"
   ]
  },
  {
   "cell_type": "markdown",
   "metadata": {},
   "source": [
    "## PART VI\n",
    "### CONCLUSION\n",
    "\n",
    "The number of traffic accidents and their victims demands for global attention due to its impact on society. The ability to predict traffic accident severity is of most importance for public safety and may have a crucial role especially if supported by the capacity of a timely recognition of the key influencers and its role as predictors.\n",
    "\n",
    "After understanding the available data and features, this study used several machine learning model for the classification of the level of severity of injuries, using the datasource provided by the Seattle city in the USA.  Well-known classification methods like logistic regression, decision tree, random forest were used, alongside with KNN, SVM and neural network classifiers such as MLP in order to generate the classification models. \n",
    "\n",
    "Each model was trained and tested, and the experimental results show an interesting classification accuracy that allows to point that, based on historical data related to specific classes, it is possible to conclude that particular weather, road, light conditions have a somewhat impact on whether or not could result in different levels severity of namely concerning  property damage (class 1) or injuries (class 2).\n",
    "\n",
    "However, there is considerable space for improvement: different factors involved in traffic accidents have a substantial effect on each other, thus making it difficult to individually consider any of the available parameters when explaining the\n",
    "severity of traffic accidents. In this line, the findings of this study are based on data available in only one source, which is the ArcGIS Metadata Form, probably build with a more specific focus of georeferenciation of accidents and not with the focus of gathering all accident related data, features and classes. This, the fact that this was the only datasource available, makes the study very narrowed and limited in the number of variables, creating space for a much broader studythat could model (and comprehend) the relationship between the accident injury severity and many many contributing factors arising from human characteristics, vehicle characteristics, roadway characteristics, weather characteristics and other environmental characteristics.\n",
    "\n",
    "Thank you!"
   ]
  },
  {
   "cell_type": "markdown",
   "metadata": {},
   "source": [
    "A project by Adelaide Leitao (adelaide.leitao@gmail.com).\n",
    "October 15, 2020"
   ]
  }
 ],
 "metadata": {
  "kernelspec": {
   "display_name": "Python 3",
   "language": "python",
   "name": "python3"
  },
  "language_info": {
   "codemirror_mode": {
    "name": "ipython",
    "version": 3
   },
   "file_extension": ".py",
   "mimetype": "text/x-python",
   "name": "python",
   "nbconvert_exporter": "python",
   "pygments_lexer": "ipython3",
   "version": "3.7.1"
  }
 },
 "nbformat": 4,
 "nbformat_minor": 1
}
